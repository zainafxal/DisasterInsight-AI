{
 "cells": [
  {
   "cell_type": "markdown",
   "id": "1ebf492f",
   "metadata": {},
   "source": [
    "# **01 - Foundational NLP Model: Disaster Tweet Classification**\n",
    "Project: **Disaster Insight AI**<br>\n",
    "Author: **MUHAMMAD ZAIN**"
   ]
  },
  {
   "cell_type": "markdown",
   "id": "8fe060c1",
   "metadata": {},
   "source": [
    "## **Objective**\n",
    "\n",
    "The primary goal of this notebook is to develop a robust foundational model for classifying disaster-related text from social media. This model will serve as the core classification engine for the Disaster Insight AI platform, enabling the system to automatically distinguish between relevant, actionable disaster information and irrelevant noise.\n",
    "\n",
    "## **Methodology**\n",
    "\n",
    "1. **Combine Datasets:** We will merge the CrisesNLP and HumanAid datasets to create a comprehensive training corpus. This combines general disaster-related tweets with more specific humanitarian aid-focused messages, creating a more generalized and robust model.\n",
    "   \n",
    "2. **Train a Transformer Model:** We will fine-tune a pre-trained Transformer model (DistilBERT) on our combined dataset. DistilBERT is chosen for its excellent balance of performance and computational efficiency.\n",
    "   \n",
    "3. **Evaluate on a Benchmark:** The model's generalization capability will be rigorously tested on a separate, unseen Benchmark dataset. This ensures our model performs well on data it has never encountered during training."
   ]
  },
  {
   "cell_type": "markdown",
   "id": "23c22b71",
   "metadata": {},
   "source": [
    "## **1. Setup & Environment**\n",
    "First, we install and import all the necessary libraries. We'll use `transformers` and `datasets` from Hugging Face for the core `NLP` tasks, `scikit-learn` for metrics, and `pandas` for data manipulation. We also set up the device to use a GPU if available, which will significantly accelerate the training process."
   ]
  },
  {
   "cell_type": "code",
   "execution_count": 1,
   "id": "7bc31960",
   "metadata": {},
   "outputs": [],
   "source": [
    "!pip install transformers torch tqdm datasets matplotlib seaborn -q"
   ]
  },
  {
   "cell_type": "code",
   "execution_count": 2,
   "id": "8b730273",
   "metadata": {},
   "outputs": [
    {
     "name": "stderr",
     "output_type": "stream",
     "text": [
      "c:\\Users\\MUHAMMAD ZAIN\\.conda\\envs\\ml_env\\Lib\\site-packages\\tqdm\\auto.py:21: TqdmWarning: IProgress not found. Please update jupyter and ipywidgets. See https://ipywidgets.readthedocs.io/en/stable/user_install.html\n",
      "  from .autonotebook import tqdm as notebook_tqdm\n",
      "c:\\Users\\MUHAMMAD ZAIN\\.conda\\envs\\ml_env\\Lib\\site-packages\\transformers\\utils\\generic.py:441: FutureWarning: `torch.utils._pytree._register_pytree_node` is deprecated. Please use `torch.utils._pytree.register_pytree_node` instead.\n",
      "  _torch_pytree._register_pytree_node(\n",
      "c:\\Users\\MUHAMMAD ZAIN\\.conda\\envs\\ml_env\\Lib\\site-packages\\transformers\\utils\\generic.py:309: FutureWarning: `torch.utils._pytree._register_pytree_node` is deprecated. Please use `torch.utils._pytree.register_pytree_node` instead.\n",
      "  _torch_pytree._register_pytree_node(\n"
     ]
    },
    {
     "name": "stdout",
     "output_type": "stream",
     "text": [
      "Using device: cpu\n"
     ]
    }
   ],
   "source": [
    "import pandas as pd\n",
    "import numpy as np\n",
    "import os\n",
    "import re\n",
    "import matplotlib.pyplot as plt\n",
    "import seaborn as sns\n",
    "import torch\n",
    "from sklearn.model_selection import train_test_split\n",
    "from sklearn.metrics import classification_report, confusion_matrix, f1_score, accuracy_score, precision_recall_fscore_support\n",
    "from transformers import AutoTokenizer, AutoModelForSequenceClassification, Trainer, TrainingArguments\n",
    "from datasets import Dataset\n",
    "\n",
    "# Set plot style\n",
    "plt.style.use('seaborn-v0_8-whitegrid')\n",
    "\n",
    "# Check for GPU availability\n",
    "device = torch.device('cuda' if torch.cuda.is_available() else 'cpu')\n",
    "print(f'Using device: {device}')"
   ]
  },
  {
   "cell_type": "markdown",
   "id": "60fccb2a",
   "metadata": {},
   "source": [
    "## **2. Data Loading & Merging**\n",
    "\n",
    "We load our three primary datasets. As per our strategy, `HumanAid` and `CrisesNLP` are combined to form the training pool, while the Benchmark dataset is reserved for the final, unbiased evaluation of our model."
   ]
  },
  {
   "cell_type": "code",
   "execution_count": 3,
   "id": "be7e9fc0",
   "metadata": {},
   "outputs": [
    {
     "name": "stdout",
     "output_type": "stream",
     "text": [
      "All datasets loaded successfully!\n",
      "\n",
      "--- Data successfully cleaned and harmonized ---\n",
      "\n",
      "Final training data shape: (61946, 2)\n",
      "Final benchmark data shape: (87557, 2)\n",
      "\n",
      "--- Distribution of Harmonized Labels in Training Data ---\n",
      "label\n",
      "donation_and_volunteering              14736\n",
      "other_relevant_information             13596\n",
      "infrastructure_and_utilities_damage     7359\n",
      "sympathy_and_support                    6725\n",
      "injured_or_dead_people                  6496\n",
      "not_humanitarian                        4468\n",
      "caution_and_advice                      3248\n",
      "displaced_and_evacuations               2709\n",
      "requests_or_needs                       1626\n",
      "affected_individuals                     551\n",
      "missing_and_found_people                 432\n",
      "Name: count, dtype: int64\n",
      "\n",
      "--- Distribution of Harmonized Labels in Benchmark Data ---\n",
      "label\n",
      "not_humanitarian                       51635\n",
      "donation_and_volunteering               8514\n",
      "requests_or_needs                       6917\n",
      "sympathy_and_support                    5109\n",
      "infrastructure_and_utilities_damage     5056\n",
      "affected_individuals                    3514\n",
      "caution_and_advice                      2993\n",
      "injured_or_dead_people                  2777\n",
      "missing_and_found_people                 531\n",
      "displaced_and_evacuations                511\n",
      "Name: count, dtype: int64\n"
     ]
    }
   ],
   "source": [
    "# --- Configuration ---\n",
    "DATA_DIR = '../data/interim_data/' # Your path\n",
    "HUMAN_AID_PATH = os.path.join(DATA_DIR, 'crisis_consolidated_humanAID.tsv')\n",
    "CRISES_NLP_PATH = os.path.join(DATA_DIR, 'crisis_consolidated_crowdflower.tsv')\n",
    "BENCHMARK_PATH = os.path.join(DATA_DIR, 'consolidated_benchmark_event_aware_en.tsv')\n",
    "\n",
    "# --- Load Datasets ---\n",
    "try:\n",
    "    human_df_raw = pd.read_csv(HUMAN_AID_PATH, sep='\\t')\n",
    "    nlp_df_raw = pd.read_csv(CRISES_NLP_PATH, sep='\\t')\n",
    "    benchmark_df_raw = pd.read_csv(BENCHMARK_PATH, sep='\\t')\n",
    "    print(\"All datasets loaded successfully!\")\n",
    "except FileNotFoundError as e:\n",
    "    print(f\"Error loading data: {e}\")\n",
    "    print(\"Please ensure the data paths are correct and the folder structure is set up.\")\n",
    "    raise e\n",
    "\n",
    "# --- Step 1: Standardize Column Names ---\n",
    "# For HumanAid data\n",
    "human_df = human_df_raw[['tweet_text', 'class_label']].rename(columns={'tweet_text': 'text', 'class_label': 'label'})\n",
    "# For CrisisNLP data (has 'label' but also 'class_label', we'll use the more consistent 'class_label' if it exists)\n",
    "if 'class_label' in nlp_df_raw.columns:\n",
    "    nlp_df = nlp_df_raw[['tweet_text', 'class_label']].rename(columns={'tweet_text': 'text', 'class_label': 'label'})\n",
    "else: # Fallback if only 'label' is present\n",
    "    nlp_df = nlp_df_raw[['tweet_text', 'label']].rename(columns={'tweet_text': 'text'})\n",
    "# For Benchmark data\n",
    "benchmark_df = benchmark_df_raw[['text', 'class_label']].rename(columns={'class_label': 'label'})\n",
    "\n",
    "\n",
    "# --- Step 2: Define and Apply a Comprehensive Label Harmonization Map ---\n",
    "# This is the key step. We define a single, clean set of target labels.\n",
    "label_mapping = {\n",
    "    # Donations and Volunteering\n",
    "    'rescue_volunteering_or_donation_effort': 'donation_and_volunteering',\n",
    "    'donation_needs_or_offers_or_volunteering_services': 'donation_and_volunteering',\n",
    "    'donation_and_volunteering': 'donation_and_volunteering',\n",
    "    'response_efforts': 'donation_and_volunteering', # Often relates to organized efforts\n",
    "\n",
    "    # Infrastructure Damage\n",
    "    'infrastructure_and_utility_damage': 'infrastructure_and_utilities_damage',\n",
    "    'infrastructure_and_utilities_damage': 'infrastructure_and_utilities_damage',\n",
    "\n",
    "    # Casualties\n",
    "    'injured_or_dead_people': 'injured_or_dead_people',\n",
    "    'deaths_reports': 'injured_or_dead_people',\n",
    "\n",
    "    # Missing People\n",
    "    'missing_or_found_people': 'missing_and_found_people',\n",
    "    'missing_trapped_or_found_people': 'missing_and_found_people',\n",
    "    'missing_and_found_people': 'missing_and_found_people',\n",
    "\n",
    "    # Displaced People & Evacuations\n",
    "    'displaced_people_and_evacuations': 'displaced_and_evacuations',\n",
    "    'displaced_and_evacuations': 'displaced_and_evacuations',\n",
    "\n",
    "    # Urgent Needs\n",
    "    'requests_or_urgent_needs': 'requests_or_needs',\n",
    "    'requests_or_needs': 'requests_or_needs',\n",
    "\n",
    "    # Sympathy & Support\n",
    "    'sympathy_and_support': 'sympathy_and_support',\n",
    "    'sympathy_and_emotional_support': 'sympathy_and_support',\n",
    "\n",
    "    # Caution & Advice\n",
    "    'caution_and_advice': 'caution_and_advice',\n",
    "\n",
    "    # Affected Individuals\n",
    "    'affected_individuals': 'affected_individuals',\n",
    "    'affected_people': 'affected_individuals',\n",
    "    'affected_individual': 'affected_individuals',\n",
    "    \n",
    "    # Irrelevant / Not Humanitarian\n",
    "    'not_related_or_irrelevant': 'not_humanitarian',\n",
    "    'not_humanitarian': 'not_humanitarian',\n",
    "    \n",
    "    # Other Relevant Info (a useful catch-all)\n",
    "    'other_relevant_information': 'other_relevant_information',\n",
    "    'other_useful_information': 'other_relevant_information',\n",
    "\n",
    "    # Labels to EXCLUDE (will become NaN and get dropped)\n",
    "    'disease_transmission': None,\n",
    "    'disease_signs_or_symptoms': None,\n",
    "    'prevention': None,\n",
    "    'treatment': None,\n",
    "    'informative': None,\n",
    "    'not_informative': None\n",
    "}\n",
    "\n",
    "# Apply the mapping to all dataframes\n",
    "human_df['label'] = human_df['label'].map(label_mapping)\n",
    "nlp_df['label'] = nlp_df['label'].map(label_mapping)\n",
    "benchmark_df['label'] = benchmark_df['label'].map(label_mapping)\n",
    "\n",
    "# Drop rows where the label was mapped to None or wasn't in the map\n",
    "human_df.dropna(subset=['label', 'text'], inplace=True)\n",
    "nlp_df.dropna(subset=['label', 'text'], inplace=True)\n",
    "benchmark_df.dropna(subset=['label', 'text'], inplace=True)\n",
    "\n",
    "\n",
    "# --- Step 3: Merge and Finalize ---\n",
    "df_train_full = pd.concat([human_df, nlp_df], ignore_index=True)\n",
    "\n",
    "print(\"\\n--- Data successfully cleaned and harmonized ---\")\n",
    "print(f\"\\nFinal training data shape: {df_train_full.shape}\")\n",
    "print(f\"Final benchmark data shape: {benchmark_df.shape}\")\n",
    "\n",
    "print(\"\\n--- Distribution of Harmonized Labels in Training Data ---\")\n",
    "print(df_train_full['label'].value_counts())\n",
    "\n",
    "print(\"\\n--- Distribution of Harmonized Labels in Benchmark Data ---\")\n",
    "print(benchmark_df['label'].value_counts())"
   ]
  },
  {
   "cell_type": "code",
   "execution_count": 4,
   "id": "f9193ee9",
   "metadata": {},
   "outputs": [
    {
     "name": "stdout",
     "output_type": "stream",
     "text": [
      "--- Addressing the Missing Label Problem ---\n",
      "Labels to remove from training data: {'other_relevant_information'}\n",
      "\n",
      "--- Final Data Shapes After Pruning ---\n",
      "Final training data shape: (48350, 2)\n",
      "Final benchmark data shape: (87557, 2)\n",
      "\n",
      "--- Final Label Distribution in Training Data ---\n",
      "label\n",
      "donation_and_volunteering              14736\n",
      "infrastructure_and_utilities_damage     7359\n",
      "sympathy_and_support                    6725\n",
      "injured_or_dead_people                  6496\n",
      "not_humanitarian                        4468\n",
      "caution_and_advice                      3248\n",
      "displaced_and_evacuations               2709\n",
      "requests_or_needs                       1626\n",
      "affected_individuals                     551\n",
      "missing_and_found_people                 432\n",
      "Name: count, dtype: int64\n"
     ]
    }
   ],
   "source": [
    "# --- Step 4: Final Pruning Based on Label Consistency ---\n",
    "\n",
    "print(\"--- Addressing the Missing Label Problem ---\")\n",
    "\n",
    "# Identify labels present in training but not in benchmark\n",
    "train_labels_set = set(df_train_full['label'].unique())\n",
    "benchmark_labels_set = set(benchmark_df['label'].unique())\n",
    "\n",
    "labels_to_remove = train_labels_set - benchmark_labels_set\n",
    "if labels_to_remove:\n",
    "    print(f\"Labels to remove from training data: {labels_to_remove}\")\n",
    "    df_train_full = df_train_full[~df_train_full['label'].isin(labels_to_remove)]\n",
    "else:\n",
    "    print(\"Train and benchmark datasets have the same labels. No pruning needed.\")\n",
    "\n",
    "print(\"\\n--- Final Data Shapes After Pruning ---\")\n",
    "print(f\"Final training data shape: {df_train_full.shape}\")\n",
    "print(f\"Final benchmark data shape: {benchmark_df.shape}\")\n",
    "\n",
    "print(\"\\n--- Final Label Distribution in Training Data ---\")\n",
    "print(df_train_full['label'].value_counts())"
   ]
  },
  {
   "cell_type": "markdown",
   "id": "de49dd99",
   "metadata": {},
   "source": [
    "---\n",
    "\n",
    "#### **Data Harmonization: Insights & Final Preparation**\n",
    "\n",
    "After loading the raw data, it became clear that the three datasets used different column names and, more importantly, had highly inconsistent and overlapping label schemes. The preceding code cells addressed this critical challenge, and I have now successfully prepared a clean, unified dataset for our model.\n",
    "\n",
    "This data preparation phase revealed several key insights that are crucial for the project:\n",
    "\n",
    "#### **Successful Label Harmonization**\n",
    "\n",
    "I have successfully consolidated the varied labels into a single, clean 10-class humanitarian classification scheme. All data from the HumanAid, CrisisNLP, and Benchmark sources now conforms to this unified set of categories. This was the most critical step to ensure our model is trained and evaluated on a consistent and meaningful task.\n",
    "\n",
    "#### **Justified Category Removal**\n",
    "\n",
    "A key strategic decision was to remove the `other_relevant_information` category. My analysis showed this label was present in the training data but completely absent from our benchmark test set. Training the model on this category would make the final evaluation invalid, as it would be tested on a problem with a different set of possible outcomes. By removing it from the training set, I have ensured a fair, apples-to-apples comparison that accurately measures the model's generalization capabilities.\n",
    "\n",
    "#### **Significant Class Imbalance**\n",
    "\n",
    "The final label distributions highlight a realistic challenge:\n",
    "\n",
    "- The training data has a relatively balanced mix across most humanitarian categories but contains some very rare classes (e.g., `missing_and_found_people`).\n",
    "- The benchmark data is heavily skewed, with the `not_humanitarian` class forming the vast majority of samples.\n",
    "\n",
    "This mismatch is a perfect simulation of a real-world scenario. Our model must learn the nuanced patterns of different disaster types from the training set and then prove it can effectively filter a high volume of irrelevant \"noise\" in the test set. We must keep this imbalance in mind when analyzing the final classification report and confusion matrix.\n",
    "\n",
    "#### **Final Dataset Summary**\n",
    "\n",
    "| Dataset                        | Final Shape   | Number of Classes |\n",
    "|-------------------------------|---------------|-------------------|\n",
    "| Training Data (`df_train_full`)| (48350, 2)   | 10                |\n",
    "| Benchmark Data (`benchmark_df`)| (87557, 2)   | 10                |\n",
    "\n",
    "With our data now clean, consistent, and ready, we can proceed to a more detailed Exploratory Data Analysis (EDA) on the final dataset before moving on to model training.\n",
    "\n",
    "---"
   ]
  },
  {
   "cell_type": "markdown",
   "id": "d767c56f",
   "metadata": {},
   "source": [
    "## **3. Exploratory Data Analysis (EDA) & Preprocessing**\n",
    "\n",
    "Before training, we need to understand and clean our data. This involves:\n",
    "\n",
    "- **Analyzing Label Distribution:** To check for class imbalance, which can bias the model.\n",
    "- **Analyzing Text Length:** To inform our choice for `max_length` during tokenization.\n",
    "- **Cleaning Text:** Removing noise like URLs, special characters, and converting text to lowercase.\n",
    "- **Encoding Labels:** Converting categorical text labels into numerical IDs that the model can understand."
   ]
  },
  {
   "cell_type": "markdown",
   "id": "9f9a5e66",
   "metadata": {},
   "source": [
    "### **3.1. Analyze Label Distribution**"
   ]
  },
  {
   "cell_type": "code",
   "execution_count": 5,
   "id": "98c30d1b",
   "metadata": {},
   "outputs": [
    {
     "name": "stderr",
     "output_type": "stream",
     "text": [
      "C:\\Users\\MUHAMMAD ZAIN\\AppData\\Local\\Temp\\ipykernel_9448\\2682623253.py:2: FutureWarning: \n",
      "\n",
      "Passing `palette` without assigning `hue` is deprecated and will be removed in v0.14.0. Assign the `y` variable to `hue` and set `legend=False` for the same effect.\n",
      "\n",
      "  sns.countplot(y='label', data=df_train_full, order=df_train_full['label'].value_counts().index, palette='viridis')\n"
     ]
    },
    {
     "data": {
      "image/png": "[encoded data removed]",
      "text/plain": [
       "<Figure size 1200x600 with 1 Axes>"
      ]
     },
     "metadata": {},
     "output_type": "display_data"
    }
   ],
   "source": [
    "plt.figure(figsize=(12, 6))\n",
    "sns.countplot(y='label', data=df_train_full, order=df_train_full['label'].value_counts().index, palette='viridis')\n",
    "plt.title('Label Distribution in Combined Training Data', fontsize=16)\n",
    "plt.xlabel('Count', fontsize=12)\n",
    "plt.ylabel('Label', fontsize=12)\n",
    "# save the plot\n",
    "plt.tight_layout()\n",
    "plt.savefig('../visuals/01_disaster_tweet_classification/EDA_Analysis/label_distribution.png')\n",
    "plt.show()"
   ]
  },
  {
   "cell_type": "markdown",
   "id": "d9825dcd",
   "metadata": {},
   "source": [
    "### **3.2. Analyze Text Length**"
   ]
  },
  {
   "cell_type": "code",
   "execution_count": 6,
   "id": "0cf88811",
   "metadata": {},
   "outputs": [
    {
     "data": {
      "image/png": "[encoded data removed]",
      "text/plain": [
       "<Figure size 1200x600 with 1 Axes>"
      ]
     },
     "metadata": {},
     "output_type": "display_data"
    }
   ],
   "source": [
    "df_train_full['text_length'] = df_train_full['text'].astype(str).apply(len)\n",
    "plt.figure(figsize=(12, 6))\n",
    "sns.histplot(df_train_full['text_length'], bins=50, kde=True)\n",
    "plt.title('Distribution of Tweet Lengths', fontsize=16)\n",
    "plt.xlabel('Length of Text', fontsize=12)\n",
    "plt.ylabel('Frequency', fontsize=12)\n",
    "plt.savefig('../visuals/01_disaster_tweet_classification/EDA_Analysis/tweet_length_distribution.png')\n",
    "plt.show()"
   ]
  },
  {
   "cell_type": "markdown",
   "id": "e7f76dc5",
   "metadata": {},
   "source": [
    "---\n",
    "\n",
    "#### **Observations from EDA**\n",
    "\n",
    "My initial exploratory analysis of the final, harmonized training data has revealed two critical insights that will guide the subsequent modeling steps:\n",
    "\n",
    "#### Moderate Class Imbalance is Present:\n",
    "\n",
    "The label distribution plot clearly shows that our 10 classes are not equally represented. The `donation_and_volunteering` category is the most frequent, while `missing_and_found_people` is the rarest. This is a realistic reflection of real-world disaster data.\n",
    "\n",
    "#### Implication:\n",
    "\n",
    "This imbalance must be handled carefully. I will use a stratified split to ensure our validation set has the same class proportions as the training set. Furthermore, I will prioritize the weighted F1-score as the primary evaluation metric, as it provides a better measure of performance on imbalanced datasets than simple accuracy.\n",
    "\n",
    "#### Tweet Length is Concentrated:\n",
    "\n",
    "The text length histogram confirms that the data originates from a microblogging platform. The vast majority of samples are under 200 characters, with a sharp peak near the 140-character mark.\n",
    "\n",
    "#### Implication:\n",
    "\n",
    "This provides a strong, data-driven justification for selecting a `max_length` of 128 during tokenization. This value is an efficient choice that will capture the full context for most tweets without adding unnecessary computational overhead from excessive padding.\n",
    "\n",
    "With these insights in mind, I will now proceed with the final preprocessing steps: cleaning the text and encoding the labels into a numerical format suitable for the model.\n",
    "\n",
    "---"
   ]
  },
  {
   "cell_type": "markdown",
   "id": "1c48f93e",
   "metadata": {},
   "source": [
    "### **3.3. Text Cleaning Function**"
   ]
  },
  {
   "cell_type": "code",
   "execution_count": 7,
   "id": "9c800bbb",
   "metadata": {},
   "outputs": [],
   "source": [
    "def clean_text(text):\n",
    "    text = str(text).lower()  # Lowercase text\n",
    "    text = re.sub(r'http\\S+|www\\S+|https\\S+', '', text, flags=re.MULTILINE) # Remove URLs\n",
    "    text = re.sub(r'\\@\\w+|\\#', '', text) # Remove @mentions and hashtags\n",
    "    text = re.sub(r'[^a-z0-9\\s]', '', text) # Remove special characters and punctuation\n",
    "    text = re.sub(r'\\s+', ' ', text).strip() # Remove extra whitespace\n",
    "    return text\n",
    "\n",
    "# Apply cleaning and handle potential empty strings/NaNs\n",
    "df_train_full['clean_text'] = df_train_full['text'].apply(clean_text)\n",
    "benchmark_df['clean_text'] = benchmark_df['text'].apply(clean_text)\n",
    "\n",
    "# Drop rows where cleaning resulted in empty text or where labels are missing\n",
    "df_train_full.dropna(subset=['clean_text', 'label'], inplace=True)\n",
    "df_train_full = df_train_full[df_train_full['clean_text'] != '']\n",
    "\n",
    "benchmark_df.dropna(subset=['clean_text', 'label'], inplace=True)\n",
    "benchmark_df = benchmark_df[benchmark_df['clean_text'] != '']"
   ]
  },
  {
   "cell_type": "markdown",
   "id": "65b26b4d",
   "metadata": {},
   "source": [
    "### **3.4. Encode Labels**"
   ]
  },
  {
   "cell_type": "code",
   "execution_count": 8,
   "id": "2bb0112d",
   "metadata": {},
   "outputs": [
    {
     "name": "stdout",
     "output_type": "stream",
     "text": [
      "Text cleaning and label encoding complete.\n",
      "Number of unique labels: 10\n",
      "Label to ID Mapping: {'affected_individuals': 0, 'caution_and_advice': 1, 'displaced_and_evacuations': 2, 'donation_and_volunteering': 3, 'infrastructure_and_utilities_damage': 4, 'injured_or_dead_people': 5, 'missing_and_found_people': 6, 'not_humanitarian': 7, 'requests_or_needs': 8, 'sympathy_and_support': 9}\n"
     ]
    }
   ],
   "source": [
    "# We must use the label set from the training data to create the mapping\n",
    "labels_list = sorted(df_train_full['label'].unique().tolist())\n",
    "label2id = {label: i for i, label in enumerate(labels_list)}\n",
    "id2label = {i: label for label, i in label2id.items()}\n",
    "\n",
    "df_train_full['label_id'] = df_train_full['label'].map(label2id)\n",
    "benchmark_df['label_id'] = benchmark_df['label'].map(label2id)\n",
    "\n",
    "# Handle any labels in benchmark that might not be in training data\n",
    "benchmark_df.dropna(subset=['label_id'], inplace=True)\n",
    "benchmark_df['label_id'] = benchmark_df['label_id'].astype(int)\n",
    "\n",
    "print(\"Text cleaning and label encoding complete.\")\n",
    "print(f\"Number of unique labels: {len(labels_list)}\")\n",
    "print(\"Label to ID Mapping:\", label2id)"
   ]
  },
  {
   "cell_type": "markdown",
   "id": "83146b62",
   "metadata": {},
   "source": [
    "- **Saving the processed data**"
   ]
  },
  {
   "cell_type": "code",
   "execution_count": 9,
   "id": "43faa3bc",
   "metadata": {},
   "outputs": [
    {
     "name": "stdout",
     "output_type": "stream",
     "text": [
      "✅ Processed training data saved to: ../data/processed_data/01_disaster_tweet_classification\\01_nlp_training_harmonized.csv\n",
      "✅ Processed benchmark data saved to: ../data/processed_data/01_disaster_tweet_classification\\01_nlp_benchmark_harmonized.csv\n"
     ]
    }
   ],
   "source": [
    "import os\n",
    "\n",
    "# --- Define the output directory for processed data ---\n",
    "output_dir = '../data/processed_data/01_disaster_tweet_classification'\n",
    "os.makedirs(output_dir, exist_ok=True) # Create the folder if it doesn't exist\n",
    "\n",
    "# --- Save the final, harmonized dataframes ---\n",
    "train_output_path = os.path.join(output_dir, '01_nlp_training_harmonized.csv')\n",
    "benchmark_output_path = os.path.join(output_dir, '01_nlp_benchmark_harmonized.csv')\n",
    "\n",
    "df_train_full.to_csv(train_output_path, index=False)\n",
    "benchmark_df.to_csv(benchmark_output_path, index=False)\n",
    "\n",
    "print(f\"✅ Processed training data saved to: {train_output_path}\")\n",
    "print(f\"✅ Processed benchmark data saved to: {benchmark_output_path}\")"
   ]
  },
  {
   "cell_type": "markdown",
   "id": "04331458",
   "metadata": {},
   "source": [
    "## **4. Train/Validation Split**\n",
    "\n",
    "With our data fully cleaned and preprocessed, the next crucial step is to divide our training data (`df_train_full`) into two subsets:\n",
    "\n",
    "- **Training Set (80%)**\n",
    "\n",
    "This is the data the model will actually see and learn from during the training process.\n",
    "\n",
    "- **Validation Set (20%)**\n",
    "\n",
    "This is a hold-out set that the model does not train on. We will use this set at the end of each training epoch to evaluate the model's performance on unseen data. This helps us monitor for overfitting and ensures we save the best-performing version of our model.\n",
    "\n",
    "As determined during our EDA, we will use a stratified split to ensure the class imbalance is reflected proportionally in both the training and validation sets."
   ]
  },
  {
   "cell_type": "code",
   "execution_count": 21,
   "id": "20458ecf",
   "metadata": {},
   "outputs": [
    {
     "name": "stdout",
     "output_type": "stream",
     "text": [
      "--- Data Splitting Complete ---\n",
      "Number of training samples: 38677\n",
      "Number of validation samples: 9670\n"
     ]
    }
   ],
   "source": [
    "from sklearn.model_selection import train_test_split\n",
    "\n",
    "train_texts, val_texts, train_labels, val_labels = train_test_split(\n",
    "    df_train_full['clean_text'].tolist(),\n",
    "    df_train_full['label_id'].tolist(),\n",
    "    test_size=0.2,          # Use 20% of the data for validation\n",
    "    stratify=df_train_full['label_id'], # Ensure label distribution is preserved\n",
    "    random_state=42         # For reproducibility\n",
    ")\n",
    "\n",
    "print(\"--- Data Splitting Complete ---\")\n",
    "print(f\"Number of training samples: {len(train_texts)}\")\n",
    "print(f\"Number of validation samples: {len(val_texts)}\")"
   ]
  },
  {
   "cell_type": "markdown",
   "id": "488a974a",
   "metadata": {},
   "source": [
    "## **5. Tokenization & Dataset Preparation**\n",
    "\n",
    "Transformer models like DistilBERT do not process raw text. Instead, they require the text to be converted into a sequence of numerical IDs, a process known as tokenization.\n",
    "\n",
    "#### **Steps in Tokenization**\n",
    "\n",
    "1. **Text Cleaning**: Remove any unnecessary characters and normalize the text.\n",
    "2. **Tokenization**: Convert the cleaned text into tokens (subwords or words) that correspond to numerical IDs in the model's vocabulary.\n",
    "3. **Padding & Truncation**: Ensure all sequences are of uniform length by padding shorter sequences and truncating longer ones to the specified maximum length.\n",
    "\n",
    "This process prepares our dataset for input into the Transformer model, allowing it to effectively learn from the data."
   ]
  },
  {
   "cell_type": "markdown",
   "id": "063e0a99",
   "metadata": {},
   "source": [
    "#### **Plan for Tokenization & Dataset Preparation**\n",
    "\n",
    "1. **Load a Tokenizer**: \n",
    "   We will load the pre-trained tokenizer that corresponds to our chosen model, `distilbert-base-uncased`. It's crucial to use the exact same tokenizer the model was originally trained with to ensure the vocabulary mapping is correct.\n",
    "\n",
    "2. **Tokenize Text**: \n",
    "   We will apply the tokenizer to our `train_texts`, `val_texts`, and the `benchmark_df` texts. This will convert each sentence into:\n",
    "   - **input_ids**: A list of numerical IDs representing the tokens in the sentence.\n",
    "   - **attention_mask**: A list of 1s and 0s that tells the model which tokens to pay attention to (and which are padding).\n",
    "\n",
    "3. **Create PyTorch Datasets**: \n",
    "   We will wrap our tokenized data and labels into a custom `torch.utils.data.Dataset` class. This is the standard format expected by the Hugging Face Trainer API for efficient data loading during training and evaluation.\n",
    "\n",
    "Based on our EDA, we will use a `max_length` of 128 to truncate or pad our sequences."
   ]
  },
  {
   "cell_type": "code",
   "execution_count": 22,
   "id": "5bcdea9d",
   "metadata": {},
   "outputs": [
    {
     "name": "stderr",
     "output_type": "stream",
     "text": [
      "c:\\Users\\MUHAMMAD ZAIN\\.conda\\envs\\ml_env\\Lib\\site-packages\\huggingface_hub\\file_download.py:945: FutureWarning: `resume_download` is deprecated and will be removed in version 1.0.0. Downloads always resume when possible. If you want to force a new download, use `force_download=True`.\n",
      "  warnings.warn(\n"
     ]
    },
    {
     "name": "stdout",
     "output_type": "stream",
     "text": [
      "--- Tokenization and Dataset creation complete ---\n",
      "Train dataset length: 38677\n",
      "Validation dataset length: 9670\n",
      "Test dataset length: 87557\n"
     ]
    }
   ],
   "source": [
    "from transformers import AutoTokenizer\n",
    "\n",
    "MODEL_NAME = \"distilbert-base-uncased\"\n",
    "tokenizer = AutoTokenizer.from_pretrained(MODEL_NAME)\n",
    "\n",
    "# Tokenize all datasets\n",
    "train_encodings = tokenizer(train_texts, truncation=True, padding=True, max_length=128)\n",
    "val_encodings = tokenizer(val_texts, truncation=True, padding=True, max_length=128)\n",
    "# We also tokenize our final test set (the benchmark data) now\n",
    "test_encodings = tokenizer(benchmark_df['clean_text'].tolist(), truncation=True, padding=True, max_length=128)\n",
    "\n",
    "# Create a custom Dataset class for PyTorch compatibility\n",
    "import torch\n",
    "\n",
    "class CrisisDataset(torch.utils.data.Dataset):\n",
    "    def __init__(self, encodings, labels):\n",
    "        self.encodings = encodings\n",
    "        self.labels = labels\n",
    "\n",
    "    def __getitem__(self, idx):\n",
    "        # Retrieve tokenized inputs at the given index\n",
    "        item = {key: torch.tensor(val[idx]) for key, val in self.encodings.items()}\n",
    "        # Add the label for the same index\n",
    "        item['labels'] = torch.tensor(self.labels[idx])\n",
    "        return item\n",
    "\n",
    "    def __len__(self):\n",
    "        return len(self.labels)\n",
    "\n",
    "# Instantiate the datasets for training, validation, and testing\n",
    "train_dataset = CrisisDataset(train_encodings, train_labels)\n",
    "val_dataset = CrisisDataset(val_encodings, val_labels)\n",
    "test_dataset = CrisisDataset(test_encodings, benchmark_df['label_id'].tolist())\n",
    "\n",
    "print(\"--- Tokenization and Dataset creation complete ---\")\n",
    "print(f\"Train dataset length: {len(train_dataset)}\")\n",
    "print(f\"Validation dataset length: {len(val_dataset)}\")\n",
    "print(f\"Test dataset length: {len(test_dataset)}\")"
   ]
  },
  {
   "cell_type": "markdown",
   "id": "f37f3b8a",
   "metadata": {},
   "source": [
    "---\n",
    "\n",
    "### **Successful Tokenization & Dataset Creation**\n",
    "\n",
    "#### `Successful Tokenization`\n",
    "\n",
    "The code successfully downloaded the `distilbert-base-uncased` tokenizer and applied it to all three of your data splits (train, validation, and test).\n",
    "\n",
    "#### `Correct Dataset Creation`\n",
    "\n",
    "We have successfully created three PyTorch `Dataset` objects with the correct number of samples in each. These objects are now perfectly formatted for the Hugging Face Trainer.\n",
    "\n",
    "---"
   ]
  },
  {
   "cell_type": "markdown",
   "id": "aede2d37",
   "metadata": {},
   "source": [
    "## **6. Model Training**\n",
    "\n",
    "With our datasets fully prepared, we are now ready to train our disaster tweet classifier. This section involves four key steps:\n",
    "\n",
    "- **1. Load the Pre-trained Model**\n",
    "\n",
    "We will load DistilBERT with a sequence classification head. Crucially, we will specify the number of labels (10) and provide our `id2label` and `label2id` maps so the model can understand the output classes.\n",
    "\n",
    "- **2. Define Training Arguments**\n",
    "\n",
    "We will configure the training process using the `TrainingArguments` class. This is where we set hyperparameters like the number of epochs, batch size, and strategies for saving and evaluating the model.\n",
    "\n",
    "- **3. Define a Metrics Function**\n",
    "\n",
    "We will create a `compute_metrics` function that the Trainer will call after each evaluation run. This function will calculate key metrics like accuracy, precision, recall, and F1-score, giving us a clear view of the model's performance. Because of our class imbalance, the weighted F1-score will be our most important metric.\n",
    "\n",
    "- **4. Instantiate and Run the Trainer**\n",
    "\n",
    "Finally, we will bring everything together in the Trainer object—combining the model, arguments, datasets, and metrics function—and call the `.train()` method to start the fine-tuning process."
   ]
  },
  {
   "cell_type": "markdown",
   "id": "e7a0ddb4",
   "metadata": {},
   "source": [
    "> **NOTE:** Run this in your env before running colde below\n",
    " \n",
    "1. pip install --no-cache-dir --force-reinstall \"huggingface_hub[hf_xet]\"\n"
   ]
  },
  {
   "cell_type": "code",
   "execution_count": null,
   "id": "f2c359e0",
   "metadata": {},
   "outputs": [],
   "source": [
    "from transformers import AutoModelForSequenceClassification, Trainer, TrainingArguments\n",
    "from sklearn.metrics import accuracy_score, precision_recall_fscore_support\n",
    "\n",
    "# 1. Load the Pre-trained Model\n",
    "model = AutoModelForSequenceClassification.from_pretrained(\n",
    "    MODEL_NAME,\n",
    "    num_labels=len(labels_list),\n",
    "    id2label=id2label,\n",
    "    label2id=label2id\n",
    ")\n",
    "\n",
    "# Optional: Move model to GPU if available\n",
    "device = torch.device(\"cuda\" if torch.cuda.is_available() else \"cpu\")\n",
    "model.to(device)\n",
    "print(f\"Model loaded on: {device}\")\n",
    "\n",
    "# 2. Define Training Arguments\n",
    "training_args = TrainingArguments(\n",
    "    output_dir='./results',                     # Directory for model checkpoints and logs\n",
    "    num_train_epochs=3,                         # A good starting point for fine-tuning\n",
    "    per_device_train_batch_size=16,             # Batch size for training\n",
    "    per_device_eval_batch_size=64,              # Larger batch size for faster evaluation\n",
    "    warmup_steps=500,                           # Steps for learning rate scheduler warmup\n",
    "    weight_decay=0.01,                          # Regularization\n",
    "    logging_dir='./logs',                       # Directory for logs\n",
    "    logging_steps=100,                          # Log training progress every 100 steps\n",
    "    eval_strategy=\"epoch\",                # Evaluate at the end of each epoch\n",
    "    save_strategy=\"epoch\",                      # Save a checkpoint at the end of each epoch\n",
    "    load_best_model_at_end=True,                # Automatically load the best model\n",
    "    metric_for_best_model=\"f1\",                 # Use weighted F1 to determine the best model\n",
    "    greater_is_better=True,\n",
    "    report_to=\"none\"                            # Disables integration with tools like W&B/TensorBoard\n",
    ")\n",
    "\n",
    "# 3. Define a Metrics Computation Function\n",
    "def compute_metrics(pred):\n",
    "    labels = pred.label_ids\n",
    "    preds = pred.predictions.argmax(-1)\n",
    "    # Calculate precision, recall, and F1 score with 'weighted' average for imbalance\n",
    "    precision, recall, f1, _ = precision_recall_fscore_support(labels, preds, average='weighted')\n",
    "    acc = accuracy_score(labels, preds)\n",
    "    return {\n",
    "        'accuracy': acc,\n",
    "        'f1': f1,\n",
    "        'precision': precision,\n",
    "        'recall': recall\n",
    "    }\n",
    "\n",
    "# 4. Instantiate and Run the Trainer\n",
    "trainer = Trainer(\n",
    "    model=model,\n",
    "    args=training_args,\n",
    "    train_dataset=train_dataset,\n",
    "    eval_dataset=val_dataset,\n",
    "    compute_metrics=compute_metrics\n",
    ")\n",
    "\n",
    "# Start the training process!\n",
    "print(\"Starting model training...\")\n",
    "trainer.train()"
   ]
  },
  {
   "cell_type": "markdown",
   "id": "4bad2f11",
   "metadata": {},
   "source": [
    "Some weights of DistilBertForSequenceClassification were not initialized from the model checkpoint at distilbert-base-uncased and are newly initialized: \n",
    "['classifier.bias', 'classifier.weight', 'pre_classifier.bias', 'pre_classifier.weight']\n",
    "You should probably TRAIN this model on a down-stream task to be able to use it for predictions and inference.\n",
    "\n",
    "Model loaded on: cuda\n",
    "Starting model training...\n",
    "[7254/7254 15:57, Epoch 3/3]\n",
    "\n",
    "Epoch | Training Loss | Validation Loss | Accuracy |    F1     | Precision | Recall\n",
    "------|----------------|------------------|----------|-----------|-----------|--------\n",
    "  1   |    0.457100    |     0.461624     | 0.858945 | 0.855966  | 0.856704  | 0.858945\n",
    "  2   |    0.332500    |     0.459832     | 0.864840 | 0.864186  | 0.865857  | 0.864840\n",
    "  3   |    0.218600    |     0.541941     | 0.862151 | 0.861951  | 0.862151  | 0.862151\n",
    "\n",
    "TrainOutput(\n",
    "  global_step=7254,\n",
    "  training_loss=0.4047955938170428,\n",
    "  metrics={\n",
    "    'train_runtime': 959.169,\n",
    "    'train_samples_per_second': 120.97,\n",
    "    'train_steps_per_second': 7.563,\n",
    "    'total_flos': 2311882529210100.0,\n",
    "    'train_loss': 0.4047955938170428,\n",
    "    'epoch': 3.0\n",
    "  }\n",
    ")\n"
   ]
  },
  {
   "cell_type": "markdown",
   "id": "38bfbed8",
   "metadata": {},
   "source": [
    "---\n",
    "\n",
    "### **Training Complete! Analyzing the Results**\n",
    "\n",
    "The model has successfully completed three epochs of training. The log above provides crucial insights into its performance and behavior:\n",
    "\n",
    "- **Successful Fine-Tuning**: The training loss consistently decreased from 0.4571 in the first epoch to 0.2186 in the last, indicating that the model was effectively learning from the training data.\n",
    "\n",
    "- **Peak Performance at Epoch 2**: The key metrics to watch are on the validation set, as they represent the model's ability to generalize to unseen data. The model achieved its lowest validation loss (0.4598) and its highest weighted F1-score (0.864) at the end of Epoch 2.\n",
    "\n",
    "- In Epoch 3, while the training loss improved, the validation loss increased to 0.5419. This is a classic sign that the model was beginning to overfit—memorizing the training data at the expense of generalization.\n",
    "\n",
    "- **Best Model Automatically Loaded**: The most important takeaway is that our training strategy worked perfectly. Because we set `load_best_model_at_end=True` and `metric_for_best_model=\"f1\"`, the Trainer automatically discarded the overfitted model from Epoch 3 and has reloaded the superior model from Epoch 2.\n",
    "\n",
    "The trainer object now holds the best-performing version of our model from this entire process, achieving an 86.4% weighted F1-score on the validation set. We can now proceed with confidence to save this optimized model for final evaluation and future deployment.\n",
    "\n",
    "---"
   ]
  },
  {
   "cell_type": "markdown",
   "id": "894ea5af",
   "metadata": {},
   "source": [
    "## **7. Save Model for Inference**\n",
    "\n",
    "The training is complete, and thanks to our `load_best_model_at_end=True` argument, the trainer object is now holding the best version of our model (from Epoch 2).\n",
    "\n",
    "Now, we will save this fine-tuned model and its corresponding tokenizer to our local storage. Saving them together in the same directory is a best practice. This creates a self-contained folder that has everything needed to load and use the model for predictions in any other application, such as our Disaster Insight AI web app."
   ]
  },
  {
   "cell_type": "code",
   "execution_count": null,
   "id": "df6fa52d",
   "metadata": {},
   "outputs": [],
   "source": [
    "from transformers import AutoTokenizer\n",
    "\n",
    "# Define your save path\n",
    "save_path = \"../models/01_fine-tuned_disaster_tweet_classifier\"  # Avoid spaces in folder names\n",
    "\n",
    "# Save the best trained model\n",
    "trainer.save_model(save_path)  # Saves model, config, and training args\n",
    "\n",
    "# Load and save the tokenizer used during training\n",
    "tokenizer = AutoTokenizer.from_pretrained(MODEL_NAME)\n",
    "tokenizer.save_pretrained(save_path)\n",
    "\n",
    "print(f\"Model and tokenizer saved to: {save_path}\")"
   ]
  },
  {
   "cell_type": "markdown",
   "id": "be56c266",
   "metadata": {},
   "source": [
    "**❗One Key Point:**\n",
    "\n",
    "These commands only save the final best-performing model at the point when you run them.To make sure you’re saving the best version:\n",
    "\n",
    "- Use `load_best_model_at_end=True` in TrainingArguments (as you're already doing)\n",
    "\n",
    "That way, when you run:\n",
    "\n",
    "- trainer.save_model(...)\n",
    "\n",
    "you’re saving the best checkpoint, not just the last one trained."
   ]
  },
  {
   "cell_type": "markdown",
   "id": "e96d4d12",
   "metadata": {},
   "source": [
    "## **8. Load Saved Model & Tokenizer + Evaluate**\n",
    "\n",
    "Our model has been trained, and the best checkpoint has been saved. The validation score of **86.4% F1-score** is promising. However, the true test of a model's generalization capability is its performance on a completely unseen dataset.\n",
    "\n",
    "We will now use our held-out `benchmark_df` (prepared as `test_dataset`) for this final evaluation. This dataset has a different distribution of labels, with a much higher proportion of `not_humanitarian` tweets, making it a realistic and challenging test for our classifier.\n",
    "\n",
    "The results from this step will be our final reported performance metrics for this model. We will generate:\n",
    "\n",
    "- A detailed **Classification Report** showing precision, recall, and F1-score for each of the 10 classes.\n",
    "- A **Confusion Matrix** to visually diagnose the model's performance and identify which classes are being confused with each other."
   ]
  },
  {
   "cell_type": "code",
   "execution_count": null,
   "id": "34a41575",
   "metadata": {},
   "outputs": [],
   "source": [
    "import os\n",
    "os.environ[\"WANDB_DISABLED\"] = \"true\"  # <--- disables W&B\n",
    "\n",
    "import numpy as np\n",
    "import seaborn as sns\n",
    "import matplotlib.pyplot as plt\n",
    "from sklearn.metrics import classification_report, confusion_matrix\n",
    "\n",
    "from transformers import AutoModelForSequenceClassification, AutoTokenizer, Trainer\n",
    "import torch\n",
    "\n",
    "# Path to your saved model and tokenizer\n",
    "model_path = \"../models/01_fine-tuned_disaster_tweet_classifier\"\n",
    "\n",
    "# Load the saved tokenizer and model\n",
    "tokenizer = AutoTokenizer.from_pretrained(model_path)\n",
    "model = AutoModelForSequenceClassification.from_pretrained(model_path)\n",
    "\n",
    "# Move model to GPU if available\n",
    "device = torch.device(\"cuda\" if torch.cuda.is_available() else \"cpu\")\n",
    "model.to(device)\n",
    "\n",
    "# Setup Trainer just for evaluation\n",
    "trainer = Trainer(model=model)\n",
    "\n",
    "print(\"--- Evaluating model on the unseen Benchmark Test Set ---\")\n",
    "\n",
    "# Make sure test_dataset is defined and includes labels\n",
    "test_predictions = trainer.predict(test_dataset)\n",
    "\n",
    "predicted_labels = np.argmax(test_predictions.predictions, axis=1)\n",
    "true_labels = test_dataset.labels\n",
    "\n",
    "# Generate the classification report\n",
    "id2label = model.config.id2label\n",
    "target_names = [id2label[i] for i in sorted(id2label.keys())]\n",
    "report = classification_report(true_labels, predicted_labels, target_names=target_names)\n",
    "\n",
    "print(\"\\n--- Classification Report on Benchmark Test Set ---\\n\")\n",
    "print(report)\n",
    "\n",
    "# Confusion matrix\n",
    "cm = confusion_matrix(true_labels, predicted_labels)\n",
    "plt.figure(figsize=(12, 10))\n",
    "sns.heatmap(cm, annot=True, fmt='d', cmap='Blues',\n",
    "            xticklabels=target_names,\n",
    "            yticklabels=target_names)\n",
    "plt.title('Confusion Matrix on Benchmark Test Set', fontsize=16)\n",
    "plt.ylabel('Actual Label', fontsize=12)\n",
    "plt.xlabel('Predicted Label', fontsize=12)\n",
    "\n",
    "# Create the directory if it doesn't exist\n",
    "output_dir = \"../visuals/01_disaster_tweet_classification\"\n",
    "if not os.path.exists(output_dir):\n",
    "    os.makedirs(output_dir)\n",
    "\n",
    "plt.savefig(os.path.join(output_dir, \"confusion_matrix.png\"))\n",
    "plt.show()"
   ]
  },
  {
   "cell_type": "markdown",
   "id": "e7ecef32",
   "metadata": {},
   "source": [
    "Using the `WANDB_DISABLED` environment variable is deprecated and will be removed in v5. Use the `--report_to` flag to control the integrations used for logging results (for instance, `--report_to none`).\n",
    "\n",
    "---\n",
    "\n",
    "### Evaluating Model on the Unseen Benchmark Test Set\n",
    "\n",
    "---\n",
    "\n",
    "### Classification Report on Benchmark Test Set\n",
    "\n",
    "| Class                              | Precision | Recall | F1-Score | Support |\n",
    "|------------------------------------|-----------|--------|----------|---------|\n",
    "| affected_individuals               | 0.03      | 0.00   | 0.00     | 3514    |\n",
    "| caution_and_advice                 | 0.36      | 0.76   | 0.49     | 2993    |\n",
    "| displaced_and_evacuations          | 0.23      | 0.66   | 0.35     | 511     |\n",
    "| donation_and_volunteering          | 0.55      | 0.84   | 0.66     | 8514    |\n",
    "| infrastructure_and_utilities_damage | 0.63      | 0.70   | 0.66     | 5056    |\n",
    "| injured_or_dead_people             | 0.47      | 0.86   | 0.60     | 2777    |\n",
    "| missing_and_found_people           | 0.35      | 0.71   | 0.47     | 531     |\n",
    "| not_humanitarian                   | 0.91      | 0.75   | 0.82     | 51635   |\n",
    "| requests_or_needs                  | 0.78      | 0.26   | 0.39     | 6917    |\n",
    "| sympathy_and_support                | 0.40      | 0.79   | 0.53     | 5109    |\n",
    "\n",
    "| Metric                            | Value   |\n",
    "|-----------------------------------|---------|\n",
    "| Accuracy                          | 0.69    |\n",
    "| Macro Avg                         | 0.47    | 0.63   | 0.50 | 87557   |\n",
    "| Weighted Avg                      | 0.74    | 0.69   | 0.69 | 87557   |"
   ]
  },
  {
   "cell_type": "markdown",
   "id": "00f14ed8",
   "metadata": {},
   "source": [
    "<div style=\"text-align: center;\">\n",
    "    <img src=\"../visuals/01_disaster_tweet_classification/confusion_matrix.png\" alt=\"My Image\" width=\"1200\"/>\n",
    "</div>"
   ]
  },
  {
   "cell_type": "markdown",
   "id": "3bcdc5a6",
   "metadata": {},
   "source": [
    "---\n",
    "\n",
    "## **9. Final Results & Analysis**\n",
    "\n",
    "The model, trained on the combined CrisesNLP and HumanAid datasets, has now been evaluated on the completely unseen Benchmark test set. This evaluation provides the most honest and crucial measure of its real-world performance.\n",
    "\n",
    "The model achieved a weighted average F1-score of 69%. This is a strong baseline result for a challenging 10-class classification task on noisy social media data. The detailed classification report and confusion matrix reveal a nuanced performance with clear strengths and specific areas for future improvement.\n",
    "\n",
    "#### **Key Strengths:**\n",
    "\n",
    "- **Excellent Noise Filtration:** The model's strongest performance is on the `not_humanitarian` class (82% F1-score, 91% precision). This is a critical success for the Disaster Insight AI platform, as it demonstrates a robust ability to filter out irrelevant noise from a high-volume data stream.\n",
    "  \n",
    "- **Strong Recall on Key Categories:** The model effectively identifies several high-importance categories, achieving high recall for `donation_and_volunteering` (84%), `injured_or_dead_people` (86%), and `sympathy_and_support` (79%). This indicates it is successfully capturing the majority of these crucial event-related tweets.\n",
    "\n",
    "#### **Actionable Weaknesses & Diagnostic Insights:**\n",
    "\n",
    "The analysis also highlights two primary weaknesses that will inform the next iteration of model development:\n",
    "\n",
    "- **Low Recall on Urgent Needs:** The most critical finding is the model's poor performance on the `requests_or_needs` class, with a recall of only 26%. This means the model currently misses nearly three-quarters of all urgent calls for help. The confusion matrix reveals that these are often misclassified as `donation_and_volunteering`, indicating the model struggles with the subtle semantic difference between needing help and offering it. Improving this is the top priority for enhancing the platform's real-world utility.\n",
    "\n",
    "- **Failure to Generalize on Rare Classes:** The model completely failed to identify the `affected_individuals` class (0% F1-score). The confusion matrix shows these tweets were overwhelmingly dismissed as `not_humanitarian`. This is likely due to the class's rarity in the training data and its semantic similarity to other categories.\n",
    "\n",
    "## **Conclusion of this Notebook**\n",
    "\n",
    "This notebook successfully details the end-to-end process of building a foundational disaster tweet classifier. We have navigated complex data harmonization, trained a robust model, and performed a rigorous, critical evaluation. The resulting model is a valuable asset, successfully performing the primary task of noise reduction while providing a clear, data-driven path for future improvements."
   ]
  },
  {
   "cell_type": "markdown",
   "id": "9e34bf9e",
   "metadata": {},
   "source": [
    "## **Summary of Achievements & Limitations**\n",
    "\n",
    "### Goal for the \"Disaster Insight AI\" Project\n",
    "\n",
    "The primary goal of this notebook was to build the foundational detection component of the platform. This model is responsible for ingesting a high-volume stream of unstructured text (like tweets) and accurately filtering out irrelevant noise, then classifying the relevant information into specific humanitarian categories.\n",
    "\n",
    "### What Was Achieved in This Notebook?\n",
    "\n",
    "- **Model Trained:** A DistilBERT-based Transformer model was successfully fine-tuned for multi-class text classification.\n",
    "\n",
    "- **Problem Solved:** This model acts as an intelligent \"first-pass filter.\" It automates the process of identifying actionable information from millions of social media posts during a crisis.\n",
    "\n",
    "- **Key Deliverable:** The notebook produced a saved, production-ready NLP model (`disaster_nlp_model`) capable of classifying disaster-related text into 10 distinct humanitarian categories.\n",
    "\n",
    "### Limitations of This Model\n",
    "\n",
    "- **Scope:** This model only classifies text; it does not extract specific information like exact locations, the number of people affected, or specific needs (e.g., \"water needed\"). This will be the job of a subsequent NER (Named Entity Recognition) model.\n",
    "\n",
    "- **Data Bias:** The model's performance is dependent on the language and phrasing used in the CrisesNLP and HumanAid training datasets. It may be less effective on slang, sarcasm, or text from regions and cultures not well-represented in the data.\n",
    "\n",
    "- **Binary Misinformation:** While it filters non-humanitarian text, it is not explicitly trained to distinguish between a real disaster report and a fake one (misinformation). For example, it will classify \"Massive earthquake hits Metropolis\" as `infrastructure_damage` regardless of whether the event is real or fictional."
   ]
  }
 ],
 "metadata": {
  "kernelspec": {
   "display_name": "ml_env",
   "language": "python",
   "name": "python3"
  },
  "language_info": {
   "codemirror_mode": {
    "name": "ipython",
    "version": 3
   },
   "file_extension": ".py",
   "mimetype": "text/x-python",
   "name": "python",
   "nbconvert_exporter": "python",
   "pygments_lexer": "ipython3",
   "version": "3.12.9"
  }
 },
 "nbformat": 4,
 "nbformat_minor": 5
}
