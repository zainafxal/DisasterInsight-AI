{
 "cells": [
  {
   "cell_type": "markdown",
   "id": "6c868ae3",
   "metadata": {},
   "source": [
    "# **04 - Tactical Forecasting: Regional Earthquake Impact Probability**\n",
    "\n",
    "**Project**: Disaster Insight AI  \n",
    "**Author**: MUHAMMAD ZAIN\n",
    "\n",
    "#### **Objective: From Strategic Baseline to Tactical Forecasting**\n",
    "\n",
    "This notebook represents the most advanced modeling phase of our project. While our previous models detect events (Notebook 01), assess static risk (Notebook 02), and forecast a global strategic baseline (Notebook 03), this model provides a tactical, regional forecast.\n",
    "\n",
    "The goal is to answer a far more specific and actionable question: **\"Given the seismic activity in a high-risk region this quarter, what is the probability of a high-impact (fatal) earthquake occurring in the next quarter?\"**\n",
    "\n",
    "This predictive probability score is a key deliverable for the Disaster Insight AI dashboard, enabling proactive resource allocation and heightened awareness in the world's most vulnerable areas.\n",
    "\n",
    "#### **Methodology:**\n",
    "\n",
    "1. **Targeted Data Focus**: We will reload the cleaned EMDAT data and filter it to focus on a few of the world's most seismically active and high-risk countries identified in our previous analyses.\n",
    "\n",
    "2. **Advanced Time-Series Feature Engineering**: We will transform the raw event log into a structured time-series dataset. For each country and each quarter, we will engineer features that summarize the seismic activity of that period (e.g., event count, max magnitude).\n",
    "\n",
    "3. **Lead-Lag Target Creation**: We will create a \"lead\" target variable, where the features from one quarter are used to predict the outcome (the occurrence of a fatal event) in the subsequent quarter.\n",
    "\n",
    "4. **Training with XGBoost**: We will use the powerful XGBoost algorithm to train a classification model on this specially engineered time-series data.\n",
    "\n",
    "5. **Chronological Evaluation**: The model will be evaluated on a held-out test set comprising the most recent 20% of the timeline, simulating a real-world forecasting scenario."
   ]
  },
  {
   "cell_type": "markdown",
   "id": "58cdc6d0",
   "metadata": {},
   "source": [
    "## **1. Setup & Environment**\n",
    "\n",
    "We will import our standard data science libraries, with a focus on **pandas** for time-series manipulation and **xgboost** for our classification model."
   ]
  },
  {
   "cell_type": "code",
   "execution_count": 1,
   "id": "cf5eb47d",
   "metadata": {},
   "outputs": [],
   "source": [
    "import pandas as pd\n",
    "import numpy as np\n",
    "import matplotlib.pyplot as plt\n",
    "import seaborn as sns\n",
    "import joblib\n",
    "import os\n",
    "\n",
    "from sklearn.model_selection import train_test_split\n",
    "from sklearn.metrics import classification_report, confusion_matrix, roc_auc_score, roc_curve\n",
    "from xgboost import XGBClassifier\n",
    "\n",
    "# Set plot style\n",
    "plt.style.use('seaborn-v0_8-whitegrid')\n",
    "sns.set_palette('rocket')"
   ]
  },
  {
   "cell_type": "markdown",
   "id": "2d7e3658",
   "metadata": {},
   "source": [
    "## **2. Data Loading & Regional Filtering**\n",
    "\n",
    "We begin by reloading the authoritative **EMDAT** dataset and performing the same initial cleaning steps established in Notebook 02. Crucially, we will then filter this global dataset to focus our analysis on a predefined list of high-risk countries. This targeted approach allows us to build a more specialized and potentially more accurate regional model."
   ]
  },
  {
   "cell_type": "code",
   "execution_count": null,
   "id": "c70b3ac8",
   "metadata": {},
   "outputs": [
    {
     "name": "stdout",
     "output_type": "stream",
     "text": [
      "Dataset loaded successfully!\n",
      "Filtered down to 677 earthquake events.\n",
      "\n",
      "Filtered regional data shape: (229, 10)\n",
      "Focusing on countries: ['China', 'India', 'Indonesia', 'Philippines']\n"
     ]
    },
    {
     "data": {
      "application/vnd.microsoft.datawrangler.viewer.v0+json": {
       "columns": [
        {
         "name": "index",
         "rawType": "int64",
         "type": "integer"
        },
        {
         "name": "Country",
         "rawType": "object",
         "type": "string"
        },
        {
         "name": "Region",
         "rawType": "object",
         "type": "string"
        },
        {
         "name": "Location",
         "rawType": "object",
         "type": "string"
        },
        {
         "name": "Start Year",
         "rawType": "int64",
         "type": "integer"
        },
        {
         "name": "Start Month",
         "rawType": "float64",
         "type": "float"
        },
        {
         "name": "Start Day",
         "rawType": "float64",
         "type": "float"
        },
        {
         "name": "Disaster Type",
         "rawType": "object",
         "type": "string"
        },
        {
         "name": "Total Deaths",
         "rawType": "float64",
         "type": "float"
        },
        {
         "name": "Magnitude",
         "rawType": "float64",
         "type": "float"
        },
        {
         "name": "datetime",
         "rawType": "datetime64[ns]",
         "type": "datetime"
        }
       ],
       "ref": "4f2cc1f9-64b8-4627-a524-894bba32b23d",
       "rows": [
        [
         "33",
         "China",
         "Asia",
         "Yongren Xian, Yao'an Xian, Nanhua Xian, Dayao Xian areas (Chuxiong Yi district, Yunnan Sheng province), Xiangyun Xian area (Dali Bai district, Yunnan Sheng province)",
         "2000",
         "1.0",
         "14.0",
         "Earthquake",
         "7.0",
         "5.9",
         "2000-01-14 00:00:00"
        ],
        [
         "36",
         "China",
         "Asia",
         "Mile Xian area (Honghe Hani and Yi district, Yunnan Sheng province), Qiubei Xian area (Wenshan Zhuang and Miao district, Yunnan Sheng province)",
         "2000",
         "1.0",
         "26.0",
         "Earthquake",
         "1.0",
         "4.9",
         "2000-01-26 00:00:00"
        ],
        [
         "41",
         "China",
         "Asia",
         "Xiuyan Manzu Zizhixian area (Anshan district, Liaoning Sheng province)",
         "2000",
         "1.0",
         "11.0",
         "Earthquake",
         null,
         "5.1",
         "2000-01-11 00:00:00"
        ],
        [
         "208",
         "Indonesia",
         "Asia",
         "Totikum, Tinangkung, Liang villages (Banggai Kepulauan district, Sulawesi Tengah province), Banggai district (Sulawesi Tengah province)",
         "2000",
         "5.0",
         "4.0",
         "Earthquake",
         "45.0",
         "7.6",
         "2000-05-04 00:00:00"
        ],
        [
         "267",
         "Indonesia",
         "Asia",
         "Enggano island (Bengkulu Utara district, Bengkulu province)",
         "2000",
         "6.0",
         "4.0",
         "Earthquake",
         "103.0",
         "6.7",
         "2000-06-04 00:00:00"
        ]
       ],
       "shape": {
        "columns": 10,
        "rows": 5
       }
      },
      "text/html": [
       "<div>\n",
       "<style scoped>\n",
       "    .dataframe tbody tr th:only-of-type {\n",
       "        vertical-align: middle;\n",
       "    }\n",
       "\n",
       "    .dataframe tbody tr th {\n",
       "        vertical-align: top;\n",
       "    }\n",
       "\n",
       "    .dataframe thead th {\n",
       "        text-align: right;\n",
       "    }\n",
       "</style>\n",
       "<table border=\"1\" class=\"dataframe\">\n",
       "  <thead>\n",
       "    <tr style=\"text-align: right;\">\n",
       "      <th></th>\n",
       "      <th>Country</th>\n",
       "      <th>Region</th>\n",
       "      <th>Location</th>\n",
       "      <th>Start Year</th>\n",
       "      <th>Start Month</th>\n",
       "      <th>Start Day</th>\n",
       "      <th>Disaster Type</th>\n",
       "      <th>Total Deaths</th>\n",
       "      <th>Magnitude</th>\n",
       "      <th>datetime</th>\n",
       "    </tr>\n",
       "  </thead>\n",
       "  <tbody>\n",
       "    <tr>\n",
       "      <th>33</th>\n",
       "      <td>China</td>\n",
       "      <td>Asia</td>\n",
       "      <td>Yongren Xian, Yao'an Xian, Nanhua Xian, Dayao ...</td>\n",
       "      <td>2000</td>\n",
       "      <td>1.0</td>\n",
       "      <td>14.0</td>\n",
       "      <td>Earthquake</td>\n",
       "      <td>7.0</td>\n",
       "      <td>5.9</td>\n",
       "      <td>2000-01-14</td>\n",
       "    </tr>\n",
       "    <tr>\n",
       "      <th>36</th>\n",
       "      <td>China</td>\n",
       "      <td>Asia</td>\n",
       "      <td>Mile Xian area (Honghe Hani and Yi district, Y...</td>\n",
       "      <td>2000</td>\n",
       "      <td>1.0</td>\n",
       "      <td>26.0</td>\n",
       "      <td>Earthquake</td>\n",
       "      <td>1.0</td>\n",
       "      <td>4.9</td>\n",
       "      <td>2000-01-26</td>\n",
       "    </tr>\n",
       "    <tr>\n",
       "      <th>41</th>\n",
       "      <td>China</td>\n",
       "      <td>Asia</td>\n",
       "      <td>Xiuyan Manzu Zizhixian area (Anshan district, ...</td>\n",
       "      <td>2000</td>\n",
       "      <td>1.0</td>\n",
       "      <td>11.0</td>\n",
       "      <td>Earthquake</td>\n",
       "      <td>NaN</td>\n",
       "      <td>5.1</td>\n",
       "      <td>2000-01-11</td>\n",
       "    </tr>\n",
       "    <tr>\n",
       "      <th>208</th>\n",
       "      <td>Indonesia</td>\n",
       "      <td>Asia</td>\n",
       "      <td>Totikum, Tinangkung, Liang villages (Banggai K...</td>\n",
       "      <td>2000</td>\n",
       "      <td>5.0</td>\n",
       "      <td>4.0</td>\n",
       "      <td>Earthquake</td>\n",
       "      <td>45.0</td>\n",
       "      <td>7.6</td>\n",
       "      <td>2000-05-04</td>\n",
       "    </tr>\n",
       "    <tr>\n",
       "      <th>267</th>\n",
       "      <td>Indonesia</td>\n",
       "      <td>Asia</td>\n",
       "      <td>Enggano island (Bengkulu Utara district, Bengk...</td>\n",
       "      <td>2000</td>\n",
       "      <td>6.0</td>\n",
       "      <td>4.0</td>\n",
       "      <td>Earthquake</td>\n",
       "      <td>103.0</td>\n",
       "      <td>6.7</td>\n",
       "      <td>2000-06-04</td>\n",
       "    </tr>\n",
       "  </tbody>\n",
       "</table>\n",
       "</div>"
      ],
      "text/plain": [
       "       Country Region                                           Location  \\\n",
       "33       China   Asia  Yongren Xian, Yao'an Xian, Nanhua Xian, Dayao ...   \n",
       "36       China   Asia  Mile Xian area (Honghe Hani and Yi district, Y...   \n",
       "41       China   Asia  Xiuyan Manzu Zizhixian area (Anshan district, ...   \n",
       "208  Indonesia   Asia  Totikum, Tinangkung, Liang villages (Banggai K...   \n",
       "267  Indonesia   Asia  Enggano island (Bengkulu Utara district, Bengk...   \n",
       "\n",
       "     Start Year  Start Month  Start Day Disaster Type  Total Deaths  \\\n",
       "33         2000          1.0       14.0    Earthquake           7.0   \n",
       "36         2000          1.0       26.0    Earthquake           1.0   \n",
       "41         2000          1.0       11.0    Earthquake           NaN   \n",
       "208        2000          5.0        4.0    Earthquake          45.0   \n",
       "267        2000          6.0        4.0    Earthquake         103.0   \n",
       "\n",
       "     Magnitude   datetime  \n",
       "33         5.9 2000-01-14  \n",
       "36         4.9 2000-01-26  \n",
       "41         5.1 2000-01-11  \n",
       "208        7.6 2000-05-04  \n",
       "267        6.7 2000-06-04  "
      ]
     },
     "metadata": {},
     "output_type": "display_data"
    }
   ],
   "source": [
    "# --- Load and Clean Initial Data ---\n",
    "DATA_PATH = '../data/interim_data/public_emdat_2025-08-18.xlsx'\n",
    "try:\n",
    "    # First, load the whole file to inspect it, then we'll select columns\n",
    "    df_raw = pd.read_excel(DATA_PATH)\n",
    "    print(\"Dataset loaded successfully!\")\n",
    "except FileNotFoundError:\n",
    "    print(f\"Error: The file was not found at {DATA_PATH}\")\n",
    "    raise\n",
    "\n",
    "# --- 1. Select and Clean Relevant Columns from EMDAT ---\n",
    "# We use the actual column names from the EMDAT file\n",
    "columns_to_use = [\n",
    "    'Country', 'Region', 'Location',\n",
    "    'Start Year', 'Start Month', 'Start Day',\n",
    "    'Disaster Type',\n",
    "    'Total Deaths',\n",
    "    'Magnitude'\n",
    "]\n",
    "df_clean = df_raw[columns_to_use].copy()\n",
    "\n",
    "\n",
    "# --- 2. Perform Cleaning ---\n",
    "# Create a datetime object\n",
    "df_clean['datetime'] = pd.to_datetime(\n",
    "    df_clean[['Start Year', 'Start Month', 'Start Day']].rename(\n",
    "        columns={'Start Year': 'year', 'Start Month': 'month', 'Start Day': 'day'}\n",
    "    ),\n",
    "    errors='coerce'\n",
    ")\n",
    "\n",
    "# Ensure Magnitude is numeric and handle missing values\n",
    "df_clean['Magnitude'] = pd.to_numeric(df_clean['Magnitude'], errors='coerce')\n",
    "\n",
    "# Drop rows where essential information is missing\n",
    "df_clean.dropna(subset=['datetime', 'Magnitude', 'Country'], inplace=True)\n",
    "\n",
    "# For this specific task, we are only interested in earthquakes\n",
    "df_earthquakes = df_clean[df_clean['Disaster Type'] == 'Earthquake'].copy()\n",
    "print(f\"Filtered down to {len(df_earthquakes)} earthquake events.\")\n",
    "\n",
    "\n",
    "# --- 3. Tactical Filtering for High-Risk Regions ---\n",
    "# Now we filter these earthquake events by our target countries\n",
    "high_risk_countries = ['China', 'India', 'Indonesia', 'Philippines']\n",
    "df_regional = df_earthquakes[df_earthquakes['Country'].isin(high_risk_countries)].copy()\n",
    "\n",
    "print(f\"\\nFiltered regional data shape: {df_regional.shape}\")\n",
    "print(\"Focusing on countries:\", high_risk_countries)\n",
    "display(df_regional.head())"
   ]
  },
  {
   "cell_type": "markdown",
   "id": "dbbd266b",
   "metadata": {},
   "source": [
    "---\n",
    "\n",
    "#### **Regional Data Preparation Complete**\n",
    "\n",
    "We have successfully loaded the comprehensive **EMDAT** dataset, isolated the **677 earthquake-related events**, and further filtered this down to **229 events** occurring in our four target high-risk countries (China, India, Indonesia, Philippines).\n",
    "\n",
    "The resulting `df_regional` dataframe is now a clean, focused event log, ready to be transformed into a structured time-series dataset for our predictive model.\n",
    "\n",
    "---"
   ]
  },
  {
   "cell_type": "markdown",
   "id": "78f48e40",
   "metadata": {},
   "source": [
    "## **3. Time-Series Feature Engineering**\n",
    "\n",
    "This is the core of our notebook. We will convert the list of earthquake events into a structured, quarterly time-series dataset. For each country, each quarter will become a single row containing a summary of that period's seismic activity. \n",
    "\n",
    "We will then create a target variable that indicates whether a high-impact event occurred in the next quarter."
   ]
  },
  {
   "cell_type": "code",
   "execution_count": 3,
   "id": "ab452147",
   "metadata": {},
   "outputs": [
    {
     "name": "stdout",
     "output_type": "stream",
     "text": [
      "Quarterly aggregated time-series data:\n"
     ]
    },
    {
     "name": "stderr",
     "output_type": "stream",
     "text": [
      "C:\\Users\\MUHAMMAD ZAIN\\AppData\\Local\\Temp\\ipykernel_5836\\2175280314.py:9: FutureWarning: 'Q' is deprecated and will be removed in a future version, please use 'QE' instead.\n",
      "  .resample('Q', on='datetime')\n"
     ]
    },
    {
     "data": {
      "application/vnd.microsoft.datawrangler.viewer.v0+json": {
       "columns": [
        {
         "name": "index",
         "rawType": "int64",
         "type": "integer"
        },
        {
         "name": "Country",
         "rawType": "object",
         "type": "string"
        },
        {
         "name": "datetime",
         "rawType": "datetime64[ns]",
         "type": "datetime"
        },
        {
         "name": "event_count",
         "rawType": "int64",
         "type": "integer"
        },
        {
         "name": "max_magnitude",
         "rawType": "float64",
         "type": "float"
        },
        {
         "name": "avg_magnitude",
         "rawType": "float64",
         "type": "float"
        },
        {
         "name": "high_impact_events",
         "rawType": "int32",
         "type": "integer"
        }
       ],
       "ref": "e92b3bf8-6052-4455-8e58-32330190cb4c",
       "rows": [
        [
         "0",
         "China",
         "2000-03-31 00:00:00",
         "3",
         "5.9",
         "5.3",
         "2"
        ],
        [
         "1",
         "China",
         "2000-06-30 00:00:00",
         "1",
         "5.6",
         "5.6",
         "0"
        ],
        [
         "2",
         "China",
         "2000-09-30 00:00:00",
         "1",
         "4.9",
         "4.9",
         "1"
        ],
        [
         "3",
         "China",
         "2000-12-31 00:00:00",
         "0",
         "0.0",
         "0.0",
         "0"
        ],
        [
         "4",
         "China",
         "2001-03-31 00:00:00",
         "1",
         "5.6",
         "5.6",
         "1"
        ]
       ],
       "shape": {
        "columns": 6,
        "rows": 5
       }
      },
      "text/html": [
       "<div>\n",
       "<style scoped>\n",
       "    .dataframe tbody tr th:only-of-type {\n",
       "        vertical-align: middle;\n",
       "    }\n",
       "\n",
       "    .dataframe tbody tr th {\n",
       "        vertical-align: top;\n",
       "    }\n",
       "\n",
       "    .dataframe thead th {\n",
       "        text-align: right;\n",
       "    }\n",
       "</style>\n",
       "<table border=\"1\" class=\"dataframe\">\n",
       "  <thead>\n",
       "    <tr style=\"text-align: right;\">\n",
       "      <th></th>\n",
       "      <th>Country</th>\n",
       "      <th>datetime</th>\n",
       "      <th>event_count</th>\n",
       "      <th>max_magnitude</th>\n",
       "      <th>avg_magnitude</th>\n",
       "      <th>high_impact_events</th>\n",
       "    </tr>\n",
       "  </thead>\n",
       "  <tbody>\n",
       "    <tr>\n",
       "      <th>0</th>\n",
       "      <td>China</td>\n",
       "      <td>2000-03-31</td>\n",
       "      <td>3</td>\n",
       "      <td>5.9</td>\n",
       "      <td>5.3</td>\n",
       "      <td>2</td>\n",
       "    </tr>\n",
       "    <tr>\n",
       "      <th>1</th>\n",
       "      <td>China</td>\n",
       "      <td>2000-06-30</td>\n",
       "      <td>1</td>\n",
       "      <td>5.6</td>\n",
       "      <td>5.6</td>\n",
       "      <td>0</td>\n",
       "    </tr>\n",
       "    <tr>\n",
       "      <th>2</th>\n",
       "      <td>China</td>\n",
       "      <td>2000-09-30</td>\n",
       "      <td>1</td>\n",
       "      <td>4.9</td>\n",
       "      <td>4.9</td>\n",
       "      <td>1</td>\n",
       "    </tr>\n",
       "    <tr>\n",
       "      <th>3</th>\n",
       "      <td>China</td>\n",
       "      <td>2000-12-31</td>\n",
       "      <td>0</td>\n",
       "      <td>0.0</td>\n",
       "      <td>0.0</td>\n",
       "      <td>0</td>\n",
       "    </tr>\n",
       "    <tr>\n",
       "      <th>4</th>\n",
       "      <td>China</td>\n",
       "      <td>2001-03-31</td>\n",
       "      <td>1</td>\n",
       "      <td>5.6</td>\n",
       "      <td>5.6</td>\n",
       "      <td>1</td>\n",
       "    </tr>\n",
       "  </tbody>\n",
       "</table>\n",
       "</div>"
      ],
      "text/plain": [
       "  Country   datetime  event_count  max_magnitude  avg_magnitude  \\\n",
       "0   China 2000-03-31            3            5.9            5.3   \n",
       "1   China 2000-06-30            1            5.6            5.6   \n",
       "2   China 2000-09-30            1            4.9            4.9   \n",
       "3   China 2000-12-31            0            0.0            0.0   \n",
       "4   China 2001-03-31            1            5.6            5.6   \n",
       "\n",
       "   high_impact_events  \n",
       "0                   2  \n",
       "1                   0  \n",
       "2                   1  \n",
       "3                   0  \n",
       "4                   1  "
      ]
     },
     "metadata": {},
     "output_type": "display_data"
    },
    {
     "name": "stdout",
     "output_type": "stream",
     "text": [
      "\n",
      "Final feature-engineered dataset for modeling:\n",
      "Final shape: (375, 6)\n",
      "\n",
      "Target distribution (0 = No fatal event next quarter, 1 = Fatal event next quarter):\n",
      "target\n",
      "0    0.717333\n",
      "1    0.282667\n",
      "Name: proportion, dtype: float64\n"
     ]
    },
    {
     "data": {
      "application/vnd.microsoft.datawrangler.viewer.v0+json": {
       "columns": [
        {
         "name": "index",
         "rawType": "int64",
         "type": "integer"
        },
        {
         "name": "Country",
         "rawType": "object",
         "type": "string"
        },
        {
         "name": "datetime",
         "rawType": "datetime64[ns]",
         "type": "datetime"
        },
        {
         "name": "event_count",
         "rawType": "int64",
         "type": "integer"
        },
        {
         "name": "max_magnitude",
         "rawType": "float64",
         "type": "float"
        },
        {
         "name": "avg_magnitude",
         "rawType": "float64",
         "type": "float"
        },
        {
         "name": "target",
         "rawType": "int32",
         "type": "integer"
        }
       ],
       "ref": "b042ac7e-da1c-4f9a-bbf6-e4b785c49cc1",
       "rows": [
        [
         "0",
         "China",
         "2000-03-31 00:00:00",
         "3",
         "5.9",
         "5.3",
         "0"
        ],
        [
         "1",
         "China",
         "2000-06-30 00:00:00",
         "1",
         "5.6",
         "5.6",
         "1"
        ],
        [
         "2",
         "China",
         "2000-09-30 00:00:00",
         "1",
         "4.9",
         "4.9",
         "0"
        ],
        [
         "3",
         "China",
         "2000-12-31 00:00:00",
         "0",
         "0.0",
         "0.0",
         "1"
        ],
        [
         "4",
         "China",
         "2001-03-31 00:00:00",
         "1",
         "5.6",
         "5.6",
         "1"
        ]
       ],
       "shape": {
        "columns": 6,
        "rows": 5
       }
      },
      "text/html": [
       "<div>\n",
       "<style scoped>\n",
       "    .dataframe tbody tr th:only-of-type {\n",
       "        vertical-align: middle;\n",
       "    }\n",
       "\n",
       "    .dataframe tbody tr th {\n",
       "        vertical-align: top;\n",
       "    }\n",
       "\n",
       "    .dataframe thead th {\n",
       "        text-align: right;\n",
       "    }\n",
       "</style>\n",
       "<table border=\"1\" class=\"dataframe\">\n",
       "  <thead>\n",
       "    <tr style=\"text-align: right;\">\n",
       "      <th></th>\n",
       "      <th>Country</th>\n",
       "      <th>datetime</th>\n",
       "      <th>event_count</th>\n",
       "      <th>max_magnitude</th>\n",
       "      <th>avg_magnitude</th>\n",
       "      <th>target</th>\n",
       "    </tr>\n",
       "  </thead>\n",
       "  <tbody>\n",
       "    <tr>\n",
       "      <th>0</th>\n",
       "      <td>China</td>\n",
       "      <td>2000-03-31</td>\n",
       "      <td>3</td>\n",
       "      <td>5.9</td>\n",
       "      <td>5.3</td>\n",
       "      <td>0</td>\n",
       "    </tr>\n",
       "    <tr>\n",
       "      <th>1</th>\n",
       "      <td>China</td>\n",
       "      <td>2000-06-30</td>\n",
       "      <td>1</td>\n",
       "      <td>5.6</td>\n",
       "      <td>5.6</td>\n",
       "      <td>1</td>\n",
       "    </tr>\n",
       "    <tr>\n",
       "      <th>2</th>\n",
       "      <td>China</td>\n",
       "      <td>2000-09-30</td>\n",
       "      <td>1</td>\n",
       "      <td>4.9</td>\n",
       "      <td>4.9</td>\n",
       "      <td>0</td>\n",
       "    </tr>\n",
       "    <tr>\n",
       "      <th>3</th>\n",
       "      <td>China</td>\n",
       "      <td>2000-12-31</td>\n",
       "      <td>0</td>\n",
       "      <td>0.0</td>\n",
       "      <td>0.0</td>\n",
       "      <td>1</td>\n",
       "    </tr>\n",
       "    <tr>\n",
       "      <th>4</th>\n",
       "      <td>China</td>\n",
       "      <td>2001-03-31</td>\n",
       "      <td>1</td>\n",
       "      <td>5.6</td>\n",
       "      <td>5.6</td>\n",
       "      <td>1</td>\n",
       "    </tr>\n",
       "  </tbody>\n",
       "</table>\n",
       "</div>"
      ],
      "text/plain": [
       "  Country   datetime  event_count  max_magnitude  avg_magnitude  target\n",
       "0   China 2000-03-31            3            5.9            5.3       0\n",
       "1   China 2000-06-30            1            5.6            5.6       1\n",
       "2   China 2000-09-30            1            4.9            4.9       0\n",
       "3   China 2000-12-31            0            0.0            0.0       1\n",
       "4   China 2001-03-31            1            5.6            5.6       1"
      ]
     },
     "metadata": {},
     "output_type": "display_data"
    }
   ],
   "source": [
    "# --- 1. Define the High-Impact Event ---\n",
    "# A \"high-impact\" event is one that caused any fatalities.\n",
    "df_regional['high_impact_event'] = (df_regional['Total Deaths'].fillna(0) > 0).astype(int)\n",
    "\n",
    "# --- 2. Aggregate by Quarter ---\n",
    "# We group by Country and resample by Quarter ('Q')\n",
    "# This creates a summary of seismic activity for each country for each 3-month period.\n",
    "df_ts = (df_regional.groupby('Country')\n",
    "         .resample('Q', on='datetime')\n",
    "         .agg(\n",
    "             event_count=('Magnitude', 'size'),\n",
    "             max_magnitude=('Magnitude', 'max'),\n",
    "             avg_magnitude=('Magnitude', 'mean'),\n",
    "             high_impact_events=('high_impact_event', 'sum') # Count of fatal events in the quarter\n",
    "         )\n",
    "         .reset_index())\n",
    "\n",
    "# For quarters where no events occurred, the aggregations will result in NaN.\n",
    "# We should fill these with 0, as \"no event\" is meaningful data.\n",
    "df_ts.fillna(0, inplace=True)\n",
    "print(\"Quarterly aggregated time-series data:\")\n",
    "display(df_ts.head())\n",
    "\n",
    "\n",
    "# --- 3. Create the Lead Target Variable (The Magic Step) ---\n",
    "# The target for a given quarter is whether a high-impact event occurred in the NEXT quarter.\n",
    "# We use .shift(-1) to pull the next quarter's value into the current row. This is how we make the problem predictive.\n",
    "df_ts['target'] = (df_ts.groupby('Country')['high_impact_events'].shift(-1) > 0).astype(int)\n",
    "\n",
    "# --- 4. Finalize the Dataset for Modeling ---\n",
    "# Drop the original impact count to prevent data leakage (the model can't know the answer in advance).\n",
    "# Also drop the last row for each country, as it has no \"next quarter\" to predict.\n",
    "df_final = df_ts.dropna(subset=['target']).copy()\n",
    "df_final.drop(columns=['high_impact_events'], inplace=True)\n",
    "\n",
    "print(\"\\nFinal feature-engineered dataset for modeling:\")\n",
    "print(f\"Final shape: {df_final.shape}\")\n",
    "print(\"\\nTarget distribution (0 = No fatal event next quarter, 1 = Fatal event next quarter):\")\n",
    "print(df_final['target'].value_counts(normalize=True))\n",
    "display(df_final.head())"
   ]
  },
  {
   "cell_type": "markdown",
   "id": "0eae378f",
   "metadata": {},
   "source": [
    "---\n",
    "\n",
    "#### **Advanced Time-Series Feature Engineering Complete**\n",
    "\n",
    "We have successfully transformed the regional event log into a predictive, quarterly time-series dataset. The final dataset consists of **375 country-quarter snapshots**, each containing features that summarize the seismic activity of that period (e.g., `event_count`, `max_magnitude`).\n",
    "\n",
    "The most critical step was the creation of a \"lead\" target variable, which correctly frames our task: using the data from one quarter to predict the probability of a fatal earthquake in the next quarter.\n",
    "\n",
    "The resulting target distribution is imbalanced, with approximately **28%** of quarters being precursors to a high-impact period. This is a realistic challenge that our **XGBoost** model is well-equipped to handle, particularly with techniques like `scale_pos_weight` to focus learning on the minority class.\n",
    "\n",
    "---"
   ]
  },
  {
   "cell_type": "markdown",
   "id": "ad114e62",
   "metadata": {},
   "source": [
    "- **Saving the processed data**"
   ]
  },
  {
   "cell_type": "code",
   "execution_count": 4,
   "id": "c8afa2cc",
   "metadata": {},
   "outputs": [
    {
     "name": "stdout",
     "output_type": "stream",
     "text": [
      "✅ Processed regional quarterly impact data saved to: ../data/processed_data/04_regional_impact_forecasting\\04_regional_quarterly_impact_timeseries.csv\n"
     ]
    }
   ],
   "source": [
    "import os\n",
    "\n",
    "# --- Define the output directory for processed data ---\n",
    "output_dir = '../data/processed_data/04_regional_impact_forecasting'\n",
    "os.makedirs(output_dir, exist_ok=True) # Create the folder if it doesn't exist\n",
    "\n",
    "# --- Save the final, feature-engineered dataframe ---\n",
    "output_path = os.path.join(output_dir, '04_regional_quarterly_impact_timeseries.csv')\n",
    "df_final.to_csv(output_path, index=False)\n",
    "\n",
    "print(f\"✅ Processed regional quarterly impact data saved to: {output_path}\")"
   ]
  },
  {
   "cell_type": "markdown",
   "id": "e93080e4",
   "metadata": {},
   "source": [
    "## **4. Model Training & Chronological Split**\n",
    "\n",
    "We will now train an **XGBoost** classifier on this engineered time-series dataset. It is critically important to split our data chronologically, not randomly. We will train the model on the older data (the first **75%**) and test it on the most recent data (the final **25%**) to simulate a real-world forecasting scenario."
   ]
  },
  {
   "cell_type": "code",
   "execution_count": 5,
   "id": "992b9499",
   "metadata": {},
   "outputs": [
    {
     "name": "stdout",
     "output_type": "stream",
     "text": [
      "Training data from 2000-03-31 to 2024-12-31\n",
      "Testing data from 2024-12-31 to 2025-06-30\n",
      "Train shape: (281, 3), Test shape: (94, 3)\n",
      "\n",
      "Calculated scale_pos_weight to handle class imbalance: 1.99\n",
      "\n",
      "Training Regional Impact Forecasting Model...\n",
      "Training complete.\n"
     ]
    },
    {
     "name": "stderr",
     "output_type": "stream",
     "text": [
      "c:\\Users\\MUHAMMAD ZAIN\\.conda\\envs\\ml_env\\Lib\\site-packages\\xgboost\\training.py:183: UserWarning: [10:18:43] WARNING: C:\\actions-runner\\_work\\xgboost\\xgboost\\src\\learner.cc:738: \n",
      "Parameters: { \"use_label_encoder\" } are not used.\n",
      "\n",
      "  bst.update(dtrain, iteration=i, fobj=obj)\n"
     ]
    }
   ],
   "source": [
    "# --- Define Features and Target ---\n",
    "# The target is our lead variable. Country and datetime are identifiers, not predictive features for the model itself.\n",
    "X = df_final.drop(columns=['target', 'datetime', 'Country'])\n",
    "y = df_final['target']\n",
    "\n",
    "# --- Chronological Train-Test Split ---\n",
    "# We must not shuffle the data. We train on the past to predict the future.\n",
    "test_size = 0.25\n",
    "split_index = int(len(X) * (1 - test_size))\n",
    "\n",
    "X_train, X_test = X[:split_index], X[split_index:]\n",
    "y_train, y_test = y[:split_index], y[split_index:]\n",
    "\n",
    "print(f\"Training data from {df_final['datetime'].min().date()} to {df_final['datetime'].iloc[split_index].date()}\")\n",
    "print(f\"Testing data from {df_final['datetime'].iloc[split_index].date()} to {df_final['datetime'].max().date()}\")\n",
    "print(f\"Train shape: {X_train.shape}, Test shape: {X_test.shape}\")\n",
    "\n",
    "\n",
    "# --- Train the XGBoost Model ---\n",
    "# We use scale_pos_weight to handle the imbalance in our target variable. This is crucial.\n",
    "scale_pos_weight = y_train.value_counts()[0] / y_train.value_counts()[1]\n",
    "print(f\"\\nCalculated scale_pos_weight to handle class imbalance: {scale_pos_weight:.2f}\")\n",
    "\n",
    "model = XGBClassifier(\n",
    "    objective='binary:logistic',\n",
    "    eval_metric='logloss',\n",
    "    scale_pos_weight=scale_pos_weight,\n",
    "    use_label_encoder=False,\n",
    "    random_state=42\n",
    ")\n",
    "\n",
    "print(\"\\nTraining Regional Impact Forecasting Model...\")\n",
    "model.fit(X_train, y_train)\n",
    "print(\"Training complete.\")"
   ]
  },
  {
   "cell_type": "markdown",
   "id": "dc3bb809",
   "metadata": {},
   "source": [
    "---\n",
    "\n",
    "#### **Model Training Complete**\n",
    "\n",
    "The regional impact forecasting model has been successfully trained. Using a chronological split, the **XGBoost** classifier has learned from the data spanning **2000 to 2024**. We have also implemented `scale_pos_weight` to effectively manage the class imbalance inherent in our predictive task.\n",
    "\n",
    "The model is now ready for evaluation on the unseen test set, which represents the most recent period in our timeline.\n",
    "\n",
    "---"
   ]
  },
  {
   "cell_type": "markdown",
   "id": "e9dd4b5a",
   "metadata": {},
   "source": [
    "## **5. Evaluation & Interpretation**\n",
    "\n",
    "We will now evaluate our model on the held-out test set, which represents the most recent years in our data. We will pay close attention to the **recall** for class **1** (\"High-Impact Event Next Quarter\"), as this metric tells us how effectively our model can \"raise the alarm\" for a future quarter of high impact. \n",
    "\n",
    "The feature importance will reveal what seismic indicators are the most predictive."
   ]
  },
  {
   "cell_type": "code",
   "execution_count": 6,
   "id": "4551ac6a",
   "metadata": {},
   "outputs": [
    {
     "name": "stdout",
     "output_type": "stream",
     "text": [
      "--- Classification Report (Test Set) ---\n",
      "\n",
      "                                   precision    recall  f1-score   support\n",
      "\n",
      "No High-Impact Event Next Quarter       0.91      0.98      0.94        82\n",
      "   High-Impact Event Next Quarter       0.67      0.33      0.44        12\n",
      "\n",
      "                         accuracy                           0.89        94\n",
      "                        macro avg       0.79      0.65      0.69        94\n",
      "                     weighted avg       0.88      0.89      0.88        94\n",
      "\n",
      "\n",
      "ROC-AUC Score: 0.6468\n"
     ]
    },
    {
     "data": {
      "image/png": "[encoded data removed]",
      "text/plain": [
       "<Figure size 640x480 with 2 Axes>"
      ]
     },
     "metadata": {},
     "output_type": "display_data"
    },
    {
     "name": "stderr",
     "output_type": "stream",
     "text": [
      "C:\\Users\\MUHAMMAD ZAIN\\AppData\\Local\\Temp\\ipykernel_8004\\1743698066.py:31: FutureWarning: \n",
      "\n",
      "Passing `palette` without assigning `hue` is deprecated and will be removed in v0.14.0. Assign the `y` variable to `hue` and set `legend=False` for the same effect.\n",
      "\n",
      "  sns.barplot(x='importance', y='feature', data=feature_importance_df, palette='viridis')\n"
     ]
    },
    {
     "data": {
      "image/png": "[encoded data removed]",
      "text/plain": [
       "<Figure size 1000x600 with 1 Axes>"
      ]
     },
     "metadata": {},
     "output_type": "display_data"
    }
   ],
   "source": [
    "# --- Make Predictions on the Test Set ---\n",
    "y_pred = model.predict(X_test)\n",
    "y_pred_proba = model.predict_proba(X_test)[:, 1]\n",
    "\n",
    "# --- Evaluate Performance ---\n",
    "print(\"--- Classification Report (Test Set) ---\\n\")\n",
    "print(classification_report(y_test, y_pred, target_names=['No High-Impact Event Next Quarter', 'High-Impact Event Next Quarter']))\n",
    "\n",
    "auc_score = roc_auc_score(y_test, y_pred_proba)\n",
    "print(f\"\\nROC-AUC Score: {auc_score:.4f}\")\n",
    "\n",
    "# --- Visualize Results ---\n",
    "# Confusion Matrix\n",
    "cm = confusion_matrix(y_test, y_pred)\n",
    "sns.heatmap(cm, annot=True, fmt='d', cmap='Reds',\n",
    "            xticklabels=['Predicted Safe', 'Predicted Risk'],\n",
    "            yticklabels=['Actual Safe', 'Actual Risk'])\n",
    "plt.title('Confusion Matrix - Next Quarter Impact Forecast', fontsize=16)\n",
    "plt.ylabel('Actual Label', fontsize=12)\n",
    "plt.xlabel('Predicted Label', fontsize=12)\n",
    "plt.savefig(\"../visuals/04_regional_impact_forecasting/After_Training/confusion_matrix.png\")\n",
    "plt.show()\n",
    "\n",
    "# Feature Importance\n",
    "feature_importance_df = pd.DataFrame({\n",
    "    'feature': X_train.columns,\n",
    "    'importance': model.feature_importances_\n",
    "}).sort_values('importance', ascending=False)\n",
    "\n",
    "plt.figure(figsize=(10, 6))\n",
    "sns.barplot(x='importance', y='feature', data=feature_importance_df, palette='viridis')\n",
    "plt.title('Feature Importances for Predicting Next-Quarter Impact', fontsize=16)\n",
    "plt.xlabel('Importance Score (XGBoost)', fontsize=12)\n",
    "plt.ylabel('Feature', fontsize=12)\n",
    "plt.savefig(\"../visuals/04_regional_impact_forecasting/After_Training/feature_importance.png\")\n",
    "plt.show()"
   ]
  },
  {
   "cell_type": "markdown",
   "id": "f1a1832b",
   "metadata": {},
   "source": [
    "---\n",
    "\n",
    "#### **Insights from Model Evaluation**\n",
    "\n",
    "The evaluation of our regional forecasting model on the most recent, unseen data provides a clear and realistic picture of its capabilities. The results show that the model operates as a cautious but precise early-warning indicator.\n",
    "\n",
    "#### **1. Performance as a \"Conservative Alarm\"**\n",
    "\n",
    "The model's primary characteristic is its **high precision (67%)** but **low recall (33%)** for predicting high-impact quarters.\n",
    "\n",
    "- **Interpretation:** This means the model is conservative. It correctly identifies only one-third of the upcoming risky periods, but when it does raise an alarm, it is correct two out of three times.\n",
    "- **Practical Value:** For the Disaster Insight AI platform, this model is a valuable \"Level 2\" alert. An alert from this model signifies a high-confidence signal that warrants immediate, focused attention and resource allocation, even if it doesn't catch every single risky period.\n",
    "\n",
    "The overall **ROC-AUC score of 0.6468** confirms that the model has learned a meaningful, predictive signal, performing significantly better than random chance, though there is clear potential for future improvement.\n",
    "\n",
    "#### **2. What Drives the Prediction?**\n",
    "\n",
    "The feature importance analysis reveals what the model has learned about the precursors to a high-impact event:\n",
    "\n",
    "- **A Holistic View:** The model gives nearly equal weight to all three engineered features: `avg_magnitude`, `max_magnitude`, and `event_count`.\n",
    "- **Key Insight:** This is a powerful finding. It indicates that no single indicator is enough to predict future risk. Instead, the model has learned that a combination of the frequency, average intensity, and peak intensity of the current quarter's seismic activity is the best predictor of a fatal event in the next quarter.\n",
    "\n",
    "This evaluation demonstrates a successful proof-of-concept for a tactical, regional forecasting system. The model provides a reliable, albeit conservative, signal that can be a vital component of a proactive disaster response strategy.\n",
    "\n",
    "---"
   ]
  },
  {
   "cell_type": "markdown",
   "id": "f7d0904c",
   "metadata": {},
   "source": [
    "## **6. Saving the Model**"
   ]
  },
  {
   "cell_type": "code",
   "execution_count": 7,
   "id": "65d633bb",
   "metadata": {},
   "outputs": [
    {
     "name": "stdout",
     "output_type": "stream",
     "text": [
      "✅ Regional forecasting model saved successfully to: ../models/04_regional_impact_forecaster\\xgb_regional_impact_forecaster.joblib\n"
     ]
    }
   ],
   "source": [
    "# --- Save the Trained Model ---\n",
    "output_dir = \"../models/04_regional_impact_forecaster\"\n",
    "os.makedirs(output_dir, exist_ok=True)\n",
    "model_path = os.path.join(output_dir, 'xgb_regional_impact_forecaster.joblib')\n",
    "\n",
    "joblib.dump(model, model_path)\n",
    "print(f\"✅ Regional forecasting model saved successfully to: {model_path}\")"
   ]
  },
  {
   "cell_type": "markdown",
   "id": "078b800a",
   "metadata": {},
   "source": [
    "## **7. Summary of Achievements**\n",
    "\n",
    "In this notebook, we have successfully developed an advanced, tactical forecasting model. By engineering time-series features from raw earthquake data, we trained an **XGBoost** model to predict the probability of a high-impact (fatal) earthquake occurring in the next quarter for a specific set of high-risk countries.\n",
    "\n",
    "While the model's recall is modest, it operates as a high-precision alarm, providing a reliable signal when it identifies a high-risk period (**67% precision**). The feature importance analysis revealed that a holistic view of the count, average magnitude, and max magnitude of the current quarter's seismic activity is the most effective predictor of future impact.\n",
    "\n",
    "#### **Role in the \"Disaster Insight AI\" Project**\n",
    "\n",
    "This model is a key \"Level 2\" analytical tool for our platform. While other models provide real-time detection and static risk, this one offers a proactive, tactical forecast. On the dashboard, it will power a feature that displays a ranked list of at-risk regions for the coming quarter, allowing NGOs and governments to strategically preposition resources and heighten monitoring.\n",
    "\n",
    "---\n",
    "\n",
    "#### **Limitations & Responsible Use**\n",
    "\n",
    "While this model represents a significant step towards tactical forecasting, its responsible use requires a clear understanding of its specific limitations.\n",
    "\n",
    "#### **Highly Specific Geographic Scope**\n",
    "\n",
    "- **What it does:** This model is a specialist, not a generalist. It was exclusively trained on historical earthquake data from four specific countries: **China, India, Indonesia, and the Philippines**.\n",
    "- **Reasoning:** These countries were chosen strategically based on the EDA in Notebook 02, which identified them as having a high frequency of recorded, high-impact seismic events in the **EMDAT** dataset. This focused approach allowed the model to learn from a denser, more regionally-specific dataset.\n",
    "- **Crucial Implication:** The model's predictions are only valid for these four countries. It cannot and should not be used to forecast earthquake impact risk for any other country (e.g., Japan, Turkey, or the USA), as it has never seen their specific seismic patterns.\n",
    "\n",
    "#### **Low Recall (\"Missed Warnings\")**\n",
    "\n",
    "The model's primary weakness is its **low recall (33%)**, meaning it is designed to be conservative and will miss a significant portion of risky quarters. It should be treated as a high-confidence alert system, not a comprehensive safety net. A \"Safe\" prediction from this model does not guarantee safety.\n",
    "\n",
    "#### **Probabilistic, Not Deterministic**\n",
    "\n",
    "The model provides a probability of a high-impact quarter, not a certainty. An **80% probability** does not mean a fatal earthquake is guaranteed to happen; it means that in 10 quarters with similar preceding seismic activity, 8 of them experienced a fatal earthquake. It is a tool to manage risk and allocate attention, not a perfect crystal ball.\n",
    "\n",
    "#### **Simplified Feature Set**\n",
    "\n",
    "The predictions are based solely on a few lagging seismic indicators (**event_count**, **max_magnitude**, **avg_magnitude**). The model does not incorporate other potentially crucial data like fault line stress, recent volcanic activity, or granular geological surveys."
   ]
  }
 ],
 "metadata": {
  "kernelspec": {
   "display_name": "ml_env",
   "language": "python",
   "name": "python3"
  },
  "language_info": {
   "codemirror_mode": {
    "name": "ipython",
    "version": 3
   },
   "file_extension": ".py",
   "mimetype": "text/x-python",
   "name": "python",
   "nbconvert_exporter": "python",
   "pygments_lexer": "ipython3",
   "version": "3.12.9"
  }
 },
 "nbformat": 4,
 "nbformat_minor": 5
}
