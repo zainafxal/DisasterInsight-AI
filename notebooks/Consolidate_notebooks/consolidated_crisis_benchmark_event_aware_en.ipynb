{
 "cells": [
  {
   "cell_type": "code",
   "execution_count": 1,
   "id": "8a9b8446",
   "metadata": {},
   "outputs": [
    {
     "name": "stdout",
     "output_type": "stream",
     "text": [
      "✅ File saved successfully at: c:\\Users\\MUHAMMAD ZAIN\\Desktop\\DisasterInsight_AI\\DisasterInsight_AI_Global_Real-Time_Disaster_Analytics_Platform\\data\\interim_data\\consolidated_benchmark_event_aware_en.tsv\n"
     ]
    }
   ],
   "source": [
    "import pandas as pd\n",
    "import glob\n",
    "import os\n",
    "\n",
    "# Step 1: Set folder path where .tsv files are located\n",
    "folder_path = \"../../data/raw_data/CRISIS_NLP/crisis_datasets_benchmarks_v1.0/data/event_aware_en\"\n",
    "\n",
    "# Step 2: List all .tsv files in the folder\n",
    "tsv_files = glob.glob(os.path.join(folder_path, \"*.tsv\"))\n",
    "\n",
    "# Step 3: Read and store each TSV file into a list of DataFrames\n",
    "dfs = [pd.read_csv(file, sep='\\t') for file in tsv_files]\n",
    "\n",
    "# Step 4: Concatenate all DataFrames into one, aligning columns\n",
    "combined_df = pd.concat(dfs, axis=0, ignore_index=True, sort=False)\n",
    "\n",
    "# Step 5: Define output path\n",
    "output_path = \"../../data/interim_data/consolidated_benchmark_event_aware_en.tsv\"\n",
    "\n",
    "# Step 6: Save the combined dataset\n",
    "combined_df.to_csv(output_path, sep='\\t', index=False)\n",
    "\n",
    "# Step 7: Print confirmation with absolute path\n",
    "print(f\"✅ File saved successfully at: {os.path.abspath(output_path)}\")\n"
   ]
  }
 ],
 "metadata": {
  "kernelspec": {
   "display_name": "ml_env",
   "language": "python",
   "name": "python3"
  },
  "language_info": {
   "codemirror_mode": {
    "name": "ipython",
    "version": 3
   },
   "file_extension": ".py",
   "mimetype": "text/x-python",
   "name": "python",
   "nbconvert_exporter": "python",
   "pygments_lexer": "ipython3",
   "version": "3.12.9"
  }
 },
 "nbformat": 4,
 "nbformat_minor": 5
}
